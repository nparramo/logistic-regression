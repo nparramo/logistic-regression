{
 "cells": [
  {
   "cell_type": "code",
   "execution_count": 1,
   "metadata": {
    "execution": {
     "iopub.execute_input": "2023-09-25T04:15:38.461784Z",
     "iopub.status.busy": "2023-09-25T04:15:38.461006Z",
     "iopub.status.idle": "2023-09-25T04:15:40.488948Z",
     "shell.execute_reply": "2023-09-25T04:15:40.488044Z",
     "shell.execute_reply.started": "2023-09-25T04:15:38.461741Z"
    }
   },
   "outputs": [],
   "source": [
    "import numpy as np\n",
    "import pandas as pd\n",
    "import matplotlib.pyplot as plt\n",
    "import seaborn as sns"
   ]
  },
  {
   "cell_type": "code",
   "execution_count": 2,
   "metadata": {
    "execution": {
     "iopub.execute_input": "2023-09-25T04:15:40.492005Z",
     "iopub.status.busy": "2023-09-25T04:15:40.491167Z",
     "iopub.status.idle": "2023-09-25T04:15:40.593473Z",
     "shell.execute_reply": "2023-09-25T04:15:40.592104Z",
     "shell.execute_reply.started": "2023-09-25T04:15:40.491955Z"
    }
   },
   "outputs": [
    {
     "data": {
      "text/html": [
       "<div>\n",
       "<style scoped>\n",
       "    .dataframe tbody tr th:only-of-type {\n",
       "        vertical-align: middle;\n",
       "    }\n",
       "\n",
       "    .dataframe tbody tr th {\n",
       "        vertical-align: top;\n",
       "    }\n",
       "\n",
       "    .dataframe thead th {\n",
       "        text-align: right;\n",
       "    }\n",
       "</style>\n",
       "<table border=\"1\" class=\"dataframe\">\n",
       "  <thead>\n",
       "    <tr style=\"text-align: right;\">\n",
       "      <th></th>\n",
       "      <th>male</th>\n",
       "      <th>age</th>\n",
       "      <th>education</th>\n",
       "      <th>currentSmoker</th>\n",
       "      <th>cigsPerDay</th>\n",
       "      <th>BPMeds</th>\n",
       "      <th>prevalentStroke</th>\n",
       "      <th>prevalentHyp</th>\n",
       "      <th>diabetes</th>\n",
       "      <th>totChol</th>\n",
       "      <th>sysBP</th>\n",
       "      <th>diaBP</th>\n",
       "      <th>BMI</th>\n",
       "      <th>heartRate</th>\n",
       "      <th>glucose</th>\n",
       "      <th>TenYearCHD</th>\n",
       "    </tr>\n",
       "  </thead>\n",
       "  <tbody>\n",
       "    <tr>\n",
       "      <th>0</th>\n",
       "      <td>1</td>\n",
       "      <td>39</td>\n",
       "      <td>4.0</td>\n",
       "      <td>0</td>\n",
       "      <td>0.0</td>\n",
       "      <td>0.0</td>\n",
       "      <td>0</td>\n",
       "      <td>0</td>\n",
       "      <td>0</td>\n",
       "      <td>195.0</td>\n",
       "      <td>106.0</td>\n",
       "      <td>70.0</td>\n",
       "      <td>26.97</td>\n",
       "      <td>80.0</td>\n",
       "      <td>77.0</td>\n",
       "      <td>0</td>\n",
       "    </tr>\n",
       "    <tr>\n",
       "      <th>1</th>\n",
       "      <td>0</td>\n",
       "      <td>46</td>\n",
       "      <td>2.0</td>\n",
       "      <td>0</td>\n",
       "      <td>0.0</td>\n",
       "      <td>0.0</td>\n",
       "      <td>0</td>\n",
       "      <td>0</td>\n",
       "      <td>0</td>\n",
       "      <td>250.0</td>\n",
       "      <td>121.0</td>\n",
       "      <td>81.0</td>\n",
       "      <td>28.73</td>\n",
       "      <td>95.0</td>\n",
       "      <td>76.0</td>\n",
       "      <td>0</td>\n",
       "    </tr>\n",
       "    <tr>\n",
       "      <th>2</th>\n",
       "      <td>1</td>\n",
       "      <td>48</td>\n",
       "      <td>1.0</td>\n",
       "      <td>1</td>\n",
       "      <td>20.0</td>\n",
       "      <td>0.0</td>\n",
       "      <td>0</td>\n",
       "      <td>0</td>\n",
       "      <td>0</td>\n",
       "      <td>245.0</td>\n",
       "      <td>127.5</td>\n",
       "      <td>80.0</td>\n",
       "      <td>25.34</td>\n",
       "      <td>75.0</td>\n",
       "      <td>70.0</td>\n",
       "      <td>0</td>\n",
       "    </tr>\n",
       "    <tr>\n",
       "      <th>3</th>\n",
       "      <td>0</td>\n",
       "      <td>61</td>\n",
       "      <td>3.0</td>\n",
       "      <td>1</td>\n",
       "      <td>30.0</td>\n",
       "      <td>0.0</td>\n",
       "      <td>0</td>\n",
       "      <td>1</td>\n",
       "      <td>0</td>\n",
       "      <td>225.0</td>\n",
       "      <td>150.0</td>\n",
       "      <td>95.0</td>\n",
       "      <td>28.58</td>\n",
       "      <td>65.0</td>\n",
       "      <td>103.0</td>\n",
       "      <td>1</td>\n",
       "    </tr>\n",
       "    <tr>\n",
       "      <th>4</th>\n",
       "      <td>0</td>\n",
       "      <td>46</td>\n",
       "      <td>3.0</td>\n",
       "      <td>1</td>\n",
       "      <td>23.0</td>\n",
       "      <td>0.0</td>\n",
       "      <td>0</td>\n",
       "      <td>0</td>\n",
       "      <td>0</td>\n",
       "      <td>285.0</td>\n",
       "      <td>130.0</td>\n",
       "      <td>84.0</td>\n",
       "      <td>23.10</td>\n",
       "      <td>85.0</td>\n",
       "      <td>85.0</td>\n",
       "      <td>0</td>\n",
       "    </tr>\n",
       "    <tr>\n",
       "      <th>...</th>\n",
       "      <td>...</td>\n",
       "      <td>...</td>\n",
       "      <td>...</td>\n",
       "      <td>...</td>\n",
       "      <td>...</td>\n",
       "      <td>...</td>\n",
       "      <td>...</td>\n",
       "      <td>...</td>\n",
       "      <td>...</td>\n",
       "      <td>...</td>\n",
       "      <td>...</td>\n",
       "      <td>...</td>\n",
       "      <td>...</td>\n",
       "      <td>...</td>\n",
       "      <td>...</td>\n",
       "      <td>...</td>\n",
       "    </tr>\n",
       "    <tr>\n",
       "      <th>4233</th>\n",
       "      <td>1</td>\n",
       "      <td>50</td>\n",
       "      <td>1.0</td>\n",
       "      <td>1</td>\n",
       "      <td>1.0</td>\n",
       "      <td>0.0</td>\n",
       "      <td>0</td>\n",
       "      <td>1</td>\n",
       "      <td>0</td>\n",
       "      <td>313.0</td>\n",
       "      <td>179.0</td>\n",
       "      <td>92.0</td>\n",
       "      <td>25.97</td>\n",
       "      <td>66.0</td>\n",
       "      <td>86.0</td>\n",
       "      <td>1</td>\n",
       "    </tr>\n",
       "    <tr>\n",
       "      <th>4234</th>\n",
       "      <td>1</td>\n",
       "      <td>51</td>\n",
       "      <td>3.0</td>\n",
       "      <td>1</td>\n",
       "      <td>43.0</td>\n",
       "      <td>0.0</td>\n",
       "      <td>0</td>\n",
       "      <td>0</td>\n",
       "      <td>0</td>\n",
       "      <td>207.0</td>\n",
       "      <td>126.5</td>\n",
       "      <td>80.0</td>\n",
       "      <td>19.71</td>\n",
       "      <td>65.0</td>\n",
       "      <td>68.0</td>\n",
       "      <td>0</td>\n",
       "    </tr>\n",
       "    <tr>\n",
       "      <th>4235</th>\n",
       "      <td>0</td>\n",
       "      <td>48</td>\n",
       "      <td>2.0</td>\n",
       "      <td>1</td>\n",
       "      <td>20.0</td>\n",
       "      <td>NaN</td>\n",
       "      <td>0</td>\n",
       "      <td>0</td>\n",
       "      <td>0</td>\n",
       "      <td>248.0</td>\n",
       "      <td>131.0</td>\n",
       "      <td>72.0</td>\n",
       "      <td>22.00</td>\n",
       "      <td>84.0</td>\n",
       "      <td>86.0</td>\n",
       "      <td>0</td>\n",
       "    </tr>\n",
       "    <tr>\n",
       "      <th>4236</th>\n",
       "      <td>0</td>\n",
       "      <td>44</td>\n",
       "      <td>1.0</td>\n",
       "      <td>1</td>\n",
       "      <td>15.0</td>\n",
       "      <td>0.0</td>\n",
       "      <td>0</td>\n",
       "      <td>0</td>\n",
       "      <td>0</td>\n",
       "      <td>210.0</td>\n",
       "      <td>126.5</td>\n",
       "      <td>87.0</td>\n",
       "      <td>19.16</td>\n",
       "      <td>86.0</td>\n",
       "      <td>NaN</td>\n",
       "      <td>0</td>\n",
       "    </tr>\n",
       "    <tr>\n",
       "      <th>4237</th>\n",
       "      <td>0</td>\n",
       "      <td>52</td>\n",
       "      <td>2.0</td>\n",
       "      <td>0</td>\n",
       "      <td>0.0</td>\n",
       "      <td>0.0</td>\n",
       "      <td>0</td>\n",
       "      <td>0</td>\n",
       "      <td>0</td>\n",
       "      <td>269.0</td>\n",
       "      <td>133.5</td>\n",
       "      <td>83.0</td>\n",
       "      <td>21.47</td>\n",
       "      <td>80.0</td>\n",
       "      <td>107.0</td>\n",
       "      <td>0</td>\n",
       "    </tr>\n",
       "  </tbody>\n",
       "</table>\n",
       "<p>4238 rows × 16 columns</p>\n",
       "</div>"
      ],
      "text/plain": [
       "      male  age  education  currentSmoker  cigsPerDay  BPMeds  \\\n",
       "0        1   39        4.0              0         0.0     0.0   \n",
       "1        0   46        2.0              0         0.0     0.0   \n",
       "2        1   48        1.0              1        20.0     0.0   \n",
       "3        0   61        3.0              1        30.0     0.0   \n",
       "4        0   46        3.0              1        23.0     0.0   \n",
       "...    ...  ...        ...            ...         ...     ...   \n",
       "4233     1   50        1.0              1         1.0     0.0   \n",
       "4234     1   51        3.0              1        43.0     0.0   \n",
       "4235     0   48        2.0              1        20.0     NaN   \n",
       "4236     0   44        1.0              1        15.0     0.0   \n",
       "4237     0   52        2.0              0         0.0     0.0   \n",
       "\n",
       "      prevalentStroke  prevalentHyp  diabetes  totChol  sysBP  diaBP    BMI  \\\n",
       "0                   0             0         0    195.0  106.0   70.0  26.97   \n",
       "1                   0             0         0    250.0  121.0   81.0  28.73   \n",
       "2                   0             0         0    245.0  127.5   80.0  25.34   \n",
       "3                   0             1         0    225.0  150.0   95.0  28.58   \n",
       "4                   0             0         0    285.0  130.0   84.0  23.10   \n",
       "...               ...           ...       ...      ...    ...    ...    ...   \n",
       "4233                0             1         0    313.0  179.0   92.0  25.97   \n",
       "4234                0             0         0    207.0  126.5   80.0  19.71   \n",
       "4235                0             0         0    248.0  131.0   72.0  22.00   \n",
       "4236                0             0         0    210.0  126.5   87.0  19.16   \n",
       "4237                0             0         0    269.0  133.5   83.0  21.47   \n",
       "\n",
       "      heartRate  glucose  TenYearCHD  \n",
       "0          80.0     77.0           0  \n",
       "1          95.0     76.0           0  \n",
       "2          75.0     70.0           0  \n",
       "3          65.0    103.0           1  \n",
       "4          85.0     85.0           0  \n",
       "...         ...      ...         ...  \n",
       "4233       66.0     86.0           1  \n",
       "4234       65.0     68.0           0  \n",
       "4235       84.0     86.0           0  \n",
       "4236       86.0      NaN           0  \n",
       "4237       80.0    107.0           0  \n",
       "\n",
       "[4238 rows x 16 columns]"
      ]
     },
     "execution_count": 2,
     "metadata": {},
     "output_type": "execute_result"
    }
   ],
   "source": [
    "df=pd.read_csv(\"framingham.csv\")\n",
    "df"
   ]
  },
  {
   "cell_type": "markdown",
   "metadata": {},
   "source": []
  },
  {
   "cell_type": "markdown",
   "metadata": {},
   "source": [
    "**data insights**"
   ]
  },
  {
   "cell_type": "code",
   "execution_count": 3,
   "metadata": {
    "execution": {
     "iopub.execute_input": "2023-09-25T04:15:40.595680Z",
     "iopub.status.busy": "2023-09-25T04:15:40.595258Z",
     "iopub.status.idle": "2023-09-25T04:15:40.624868Z",
     "shell.execute_reply": "2023-09-25T04:15:40.623623Z",
     "shell.execute_reply.started": "2023-09-25T04:15:40.595640Z"
    }
   },
   "outputs": [
    {
     "data": {
      "text/html": [
       "<div>\n",
       "<style scoped>\n",
       "    .dataframe tbody tr th:only-of-type {\n",
       "        vertical-align: middle;\n",
       "    }\n",
       "\n",
       "    .dataframe tbody tr th {\n",
       "        vertical-align: top;\n",
       "    }\n",
       "\n",
       "    .dataframe thead th {\n",
       "        text-align: right;\n",
       "    }\n",
       "</style>\n",
       "<table border=\"1\" class=\"dataframe\">\n",
       "  <thead>\n",
       "    <tr style=\"text-align: right;\">\n",
       "      <th></th>\n",
       "      <th>male</th>\n",
       "      <th>age</th>\n",
       "      <th>education</th>\n",
       "      <th>currentSmoker</th>\n",
       "      <th>cigsPerDay</th>\n",
       "      <th>BPMeds</th>\n",
       "      <th>prevalentStroke</th>\n",
       "      <th>prevalentHyp</th>\n",
       "      <th>diabetes</th>\n",
       "      <th>totChol</th>\n",
       "      <th>sysBP</th>\n",
       "      <th>diaBP</th>\n",
       "      <th>BMI</th>\n",
       "      <th>heartRate</th>\n",
       "      <th>glucose</th>\n",
       "      <th>TenYearCHD</th>\n",
       "    </tr>\n",
       "  </thead>\n",
       "  <tbody>\n",
       "    <tr>\n",
       "      <th>0</th>\n",
       "      <td>1</td>\n",
       "      <td>39</td>\n",
       "      <td>4.0</td>\n",
       "      <td>0</td>\n",
       "      <td>0.0</td>\n",
       "      <td>0.0</td>\n",
       "      <td>0</td>\n",
       "      <td>0</td>\n",
       "      <td>0</td>\n",
       "      <td>195.0</td>\n",
       "      <td>106.0</td>\n",
       "      <td>70.0</td>\n",
       "      <td>26.97</td>\n",
       "      <td>80.0</td>\n",
       "      <td>77.0</td>\n",
       "      <td>0</td>\n",
       "    </tr>\n",
       "    <tr>\n",
       "      <th>1</th>\n",
       "      <td>0</td>\n",
       "      <td>46</td>\n",
       "      <td>2.0</td>\n",
       "      <td>0</td>\n",
       "      <td>0.0</td>\n",
       "      <td>0.0</td>\n",
       "      <td>0</td>\n",
       "      <td>0</td>\n",
       "      <td>0</td>\n",
       "      <td>250.0</td>\n",
       "      <td>121.0</td>\n",
       "      <td>81.0</td>\n",
       "      <td>28.73</td>\n",
       "      <td>95.0</td>\n",
       "      <td>76.0</td>\n",
       "      <td>0</td>\n",
       "    </tr>\n",
       "    <tr>\n",
       "      <th>2</th>\n",
       "      <td>1</td>\n",
       "      <td>48</td>\n",
       "      <td>1.0</td>\n",
       "      <td>1</td>\n",
       "      <td>20.0</td>\n",
       "      <td>0.0</td>\n",
       "      <td>0</td>\n",
       "      <td>0</td>\n",
       "      <td>0</td>\n",
       "      <td>245.0</td>\n",
       "      <td>127.5</td>\n",
       "      <td>80.0</td>\n",
       "      <td>25.34</td>\n",
       "      <td>75.0</td>\n",
       "      <td>70.0</td>\n",
       "      <td>0</td>\n",
       "    </tr>\n",
       "    <tr>\n",
       "      <th>3</th>\n",
       "      <td>0</td>\n",
       "      <td>61</td>\n",
       "      <td>3.0</td>\n",
       "      <td>1</td>\n",
       "      <td>30.0</td>\n",
       "      <td>0.0</td>\n",
       "      <td>0</td>\n",
       "      <td>1</td>\n",
       "      <td>0</td>\n",
       "      <td>225.0</td>\n",
       "      <td>150.0</td>\n",
       "      <td>95.0</td>\n",
       "      <td>28.58</td>\n",
       "      <td>65.0</td>\n",
       "      <td>103.0</td>\n",
       "      <td>1</td>\n",
       "    </tr>\n",
       "    <tr>\n",
       "      <th>4</th>\n",
       "      <td>0</td>\n",
       "      <td>46</td>\n",
       "      <td>3.0</td>\n",
       "      <td>1</td>\n",
       "      <td>23.0</td>\n",
       "      <td>0.0</td>\n",
       "      <td>0</td>\n",
       "      <td>0</td>\n",
       "      <td>0</td>\n",
       "      <td>285.0</td>\n",
       "      <td>130.0</td>\n",
       "      <td>84.0</td>\n",
       "      <td>23.10</td>\n",
       "      <td>85.0</td>\n",
       "      <td>85.0</td>\n",
       "      <td>0</td>\n",
       "    </tr>\n",
       "  </tbody>\n",
       "</table>\n",
       "</div>"
      ],
      "text/plain": [
       "   male  age  education  currentSmoker  cigsPerDay  BPMeds  prevalentStroke  \\\n",
       "0     1   39        4.0              0         0.0     0.0                0   \n",
       "1     0   46        2.0              0         0.0     0.0                0   \n",
       "2     1   48        1.0              1        20.0     0.0                0   \n",
       "3     0   61        3.0              1        30.0     0.0                0   \n",
       "4     0   46        3.0              1        23.0     0.0                0   \n",
       "\n",
       "   prevalentHyp  diabetes  totChol  sysBP  diaBP    BMI  heartRate  glucose  \\\n",
       "0             0         0    195.0  106.0   70.0  26.97       80.0     77.0   \n",
       "1             0         0    250.0  121.0   81.0  28.73       95.0     76.0   \n",
       "2             0         0    245.0  127.5   80.0  25.34       75.0     70.0   \n",
       "3             1         0    225.0  150.0   95.0  28.58       65.0    103.0   \n",
       "4             0         0    285.0  130.0   84.0  23.10       85.0     85.0   \n",
       "\n",
       "   TenYearCHD  \n",
       "0           0  \n",
       "1           0  \n",
       "2           0  \n",
       "3           1  \n",
       "4           0  "
      ]
     },
     "execution_count": 3,
     "metadata": {},
     "output_type": "execute_result"
    }
   ],
   "source": [
    "df.head()#Imprime las primeras 5 filas"
   ]
  },
  {
   "cell_type": "code",
   "execution_count": 4,
   "metadata": {
    "execution": {
     "iopub.execute_input": "2023-09-25T04:15:40.628834Z",
     "iopub.status.busy": "2023-09-25T04:15:40.628502Z",
     "iopub.status.idle": "2023-09-25T04:15:40.658537Z",
     "shell.execute_reply": "2023-09-25T04:15:40.657200Z",
     "shell.execute_reply.started": "2023-09-25T04:15:40.628804Z"
    }
   },
   "outputs": [
    {
     "name": "stdout",
     "output_type": "stream",
     "text": [
      "<class 'pandas.core.frame.DataFrame'>\n",
      "RangeIndex: 4238 entries, 0 to 4237\n",
      "Data columns (total 16 columns):\n",
      " #   Column           Non-Null Count  Dtype  \n",
      "---  ------           --------------  -----  \n",
      " 0   male             4238 non-null   int64  \n",
      " 1   age              4238 non-null   int64  \n",
      " 2   education        4133 non-null   float64\n",
      " 3   currentSmoker    4238 non-null   int64  \n",
      " 4   cigsPerDay       4209 non-null   float64\n",
      " 5   BPMeds           4185 non-null   float64\n",
      " 6   prevalentStroke  4238 non-null   int64  \n",
      " 7   prevalentHyp     4238 non-null   int64  \n",
      " 8   diabetes         4238 non-null   int64  \n",
      " 9   totChol          4188 non-null   float64\n",
      " 10  sysBP            4238 non-null   float64\n",
      " 11  diaBP            4238 non-null   float64\n",
      " 12  BMI              4219 non-null   float64\n",
      " 13  heartRate        4237 non-null   float64\n",
      " 14  glucose          3850 non-null   float64\n",
      " 15  TenYearCHD       4238 non-null   int64  \n",
      "dtypes: float64(9), int64(7)\n",
      "memory usage: 529.9 KB\n"
     ]
    }
   ],
   "source": [
    "df.info()#obtener informacion sobre los datos"
   ]
  },
  {
   "cell_type": "code",
   "execution_count": 5,
   "metadata": {
    "execution": {
     "iopub.execute_input": "2023-09-25T04:15:40.660840Z",
     "iopub.status.busy": "2023-09-25T04:15:40.660434Z",
     "iopub.status.idle": "2023-09-25T04:15:40.734778Z",
     "shell.execute_reply": "2023-09-25T04:15:40.733681Z",
     "shell.execute_reply.started": "2023-09-25T04:15:40.660801Z"
    }
   },
   "outputs": [
    {
     "data": {
      "text/html": [
       "<div>\n",
       "<style scoped>\n",
       "    .dataframe tbody tr th:only-of-type {\n",
       "        vertical-align: middle;\n",
       "    }\n",
       "\n",
       "    .dataframe tbody tr th {\n",
       "        vertical-align: top;\n",
       "    }\n",
       "\n",
       "    .dataframe thead th {\n",
       "        text-align: right;\n",
       "    }\n",
       "</style>\n",
       "<table border=\"1\" class=\"dataframe\">\n",
       "  <thead>\n",
       "    <tr style=\"text-align: right;\">\n",
       "      <th></th>\n",
       "      <th>male</th>\n",
       "      <th>age</th>\n",
       "      <th>education</th>\n",
       "      <th>currentSmoker</th>\n",
       "      <th>cigsPerDay</th>\n",
       "      <th>BPMeds</th>\n",
       "      <th>prevalentStroke</th>\n",
       "      <th>prevalentHyp</th>\n",
       "      <th>diabetes</th>\n",
       "      <th>totChol</th>\n",
       "      <th>sysBP</th>\n",
       "      <th>diaBP</th>\n",
       "      <th>BMI</th>\n",
       "      <th>heartRate</th>\n",
       "      <th>glucose</th>\n",
       "      <th>TenYearCHD</th>\n",
       "    </tr>\n",
       "  </thead>\n",
       "  <tbody>\n",
       "    <tr>\n",
       "      <th>count</th>\n",
       "      <td>4238.000000</td>\n",
       "      <td>4238.000000</td>\n",
       "      <td>4133.000000</td>\n",
       "      <td>4238.000000</td>\n",
       "      <td>4209.000000</td>\n",
       "      <td>4185.000000</td>\n",
       "      <td>4238.000000</td>\n",
       "      <td>4238.000000</td>\n",
       "      <td>4238.000000</td>\n",
       "      <td>4188.000000</td>\n",
       "      <td>4238.000000</td>\n",
       "      <td>4238.000000</td>\n",
       "      <td>4219.000000</td>\n",
       "      <td>4237.000000</td>\n",
       "      <td>3850.000000</td>\n",
       "      <td>4238.000000</td>\n",
       "    </tr>\n",
       "    <tr>\n",
       "      <th>mean</th>\n",
       "      <td>0.429212</td>\n",
       "      <td>49.584946</td>\n",
       "      <td>1.978950</td>\n",
       "      <td>0.494101</td>\n",
       "      <td>9.003089</td>\n",
       "      <td>0.029630</td>\n",
       "      <td>0.005899</td>\n",
       "      <td>0.310524</td>\n",
       "      <td>0.025720</td>\n",
       "      <td>236.721585</td>\n",
       "      <td>132.352407</td>\n",
       "      <td>82.893464</td>\n",
       "      <td>25.802008</td>\n",
       "      <td>75.878924</td>\n",
       "      <td>81.966753</td>\n",
       "      <td>0.151958</td>\n",
       "    </tr>\n",
       "    <tr>\n",
       "      <th>std</th>\n",
       "      <td>0.495022</td>\n",
       "      <td>8.572160</td>\n",
       "      <td>1.019791</td>\n",
       "      <td>0.500024</td>\n",
       "      <td>11.920094</td>\n",
       "      <td>0.169584</td>\n",
       "      <td>0.076587</td>\n",
       "      <td>0.462763</td>\n",
       "      <td>0.158316</td>\n",
       "      <td>44.590334</td>\n",
       "      <td>22.038097</td>\n",
       "      <td>11.910850</td>\n",
       "      <td>4.080111</td>\n",
       "      <td>12.026596</td>\n",
       "      <td>23.959998</td>\n",
       "      <td>0.359023</td>\n",
       "    </tr>\n",
       "    <tr>\n",
       "      <th>min</th>\n",
       "      <td>0.000000</td>\n",
       "      <td>32.000000</td>\n",
       "      <td>1.000000</td>\n",
       "      <td>0.000000</td>\n",
       "      <td>0.000000</td>\n",
       "      <td>0.000000</td>\n",
       "      <td>0.000000</td>\n",
       "      <td>0.000000</td>\n",
       "      <td>0.000000</td>\n",
       "      <td>107.000000</td>\n",
       "      <td>83.500000</td>\n",
       "      <td>48.000000</td>\n",
       "      <td>15.540000</td>\n",
       "      <td>44.000000</td>\n",
       "      <td>40.000000</td>\n",
       "      <td>0.000000</td>\n",
       "    </tr>\n",
       "    <tr>\n",
       "      <th>25%</th>\n",
       "      <td>0.000000</td>\n",
       "      <td>42.000000</td>\n",
       "      <td>1.000000</td>\n",
       "      <td>0.000000</td>\n",
       "      <td>0.000000</td>\n",
       "      <td>0.000000</td>\n",
       "      <td>0.000000</td>\n",
       "      <td>0.000000</td>\n",
       "      <td>0.000000</td>\n",
       "      <td>206.000000</td>\n",
       "      <td>117.000000</td>\n",
       "      <td>75.000000</td>\n",
       "      <td>23.070000</td>\n",
       "      <td>68.000000</td>\n",
       "      <td>71.000000</td>\n",
       "      <td>0.000000</td>\n",
       "    </tr>\n",
       "    <tr>\n",
       "      <th>50%</th>\n",
       "      <td>0.000000</td>\n",
       "      <td>49.000000</td>\n",
       "      <td>2.000000</td>\n",
       "      <td>0.000000</td>\n",
       "      <td>0.000000</td>\n",
       "      <td>0.000000</td>\n",
       "      <td>0.000000</td>\n",
       "      <td>0.000000</td>\n",
       "      <td>0.000000</td>\n",
       "      <td>234.000000</td>\n",
       "      <td>128.000000</td>\n",
       "      <td>82.000000</td>\n",
       "      <td>25.400000</td>\n",
       "      <td>75.000000</td>\n",
       "      <td>78.000000</td>\n",
       "      <td>0.000000</td>\n",
       "    </tr>\n",
       "    <tr>\n",
       "      <th>75%</th>\n",
       "      <td>1.000000</td>\n",
       "      <td>56.000000</td>\n",
       "      <td>3.000000</td>\n",
       "      <td>1.000000</td>\n",
       "      <td>20.000000</td>\n",
       "      <td>0.000000</td>\n",
       "      <td>0.000000</td>\n",
       "      <td>1.000000</td>\n",
       "      <td>0.000000</td>\n",
       "      <td>263.000000</td>\n",
       "      <td>144.000000</td>\n",
       "      <td>89.875000</td>\n",
       "      <td>28.040000</td>\n",
       "      <td>83.000000</td>\n",
       "      <td>87.000000</td>\n",
       "      <td>0.000000</td>\n",
       "    </tr>\n",
       "    <tr>\n",
       "      <th>max</th>\n",
       "      <td>1.000000</td>\n",
       "      <td>70.000000</td>\n",
       "      <td>4.000000</td>\n",
       "      <td>1.000000</td>\n",
       "      <td>70.000000</td>\n",
       "      <td>1.000000</td>\n",
       "      <td>1.000000</td>\n",
       "      <td>1.000000</td>\n",
       "      <td>1.000000</td>\n",
       "      <td>696.000000</td>\n",
       "      <td>295.000000</td>\n",
       "      <td>142.500000</td>\n",
       "      <td>56.800000</td>\n",
       "      <td>143.000000</td>\n",
       "      <td>394.000000</td>\n",
       "      <td>1.000000</td>\n",
       "    </tr>\n",
       "  </tbody>\n",
       "</table>\n",
       "</div>"
      ],
      "text/plain": [
       "              male          age    education  currentSmoker   cigsPerDay  \\\n",
       "count  4238.000000  4238.000000  4133.000000    4238.000000  4209.000000   \n",
       "mean      0.429212    49.584946     1.978950       0.494101     9.003089   \n",
       "std       0.495022     8.572160     1.019791       0.500024    11.920094   \n",
       "min       0.000000    32.000000     1.000000       0.000000     0.000000   \n",
       "25%       0.000000    42.000000     1.000000       0.000000     0.000000   \n",
       "50%       0.000000    49.000000     2.000000       0.000000     0.000000   \n",
       "75%       1.000000    56.000000     3.000000       1.000000    20.000000   \n",
       "max       1.000000    70.000000     4.000000       1.000000    70.000000   \n",
       "\n",
       "            BPMeds  prevalentStroke  prevalentHyp     diabetes      totChol  \\\n",
       "count  4185.000000      4238.000000   4238.000000  4238.000000  4188.000000   \n",
       "mean      0.029630         0.005899      0.310524     0.025720   236.721585   \n",
       "std       0.169584         0.076587      0.462763     0.158316    44.590334   \n",
       "min       0.000000         0.000000      0.000000     0.000000   107.000000   \n",
       "25%       0.000000         0.000000      0.000000     0.000000   206.000000   \n",
       "50%       0.000000         0.000000      0.000000     0.000000   234.000000   \n",
       "75%       0.000000         0.000000      1.000000     0.000000   263.000000   \n",
       "max       1.000000         1.000000      1.000000     1.000000   696.000000   \n",
       "\n",
       "             sysBP        diaBP          BMI    heartRate      glucose  \\\n",
       "count  4238.000000  4238.000000  4219.000000  4237.000000  3850.000000   \n",
       "mean    132.352407    82.893464    25.802008    75.878924    81.966753   \n",
       "std      22.038097    11.910850     4.080111    12.026596    23.959998   \n",
       "min      83.500000    48.000000    15.540000    44.000000    40.000000   \n",
       "25%     117.000000    75.000000    23.070000    68.000000    71.000000   \n",
       "50%     128.000000    82.000000    25.400000    75.000000    78.000000   \n",
       "75%     144.000000    89.875000    28.040000    83.000000    87.000000   \n",
       "max     295.000000   142.500000    56.800000   143.000000   394.000000   \n",
       "\n",
       "        TenYearCHD  \n",
       "count  4238.000000  \n",
       "mean      0.151958  \n",
       "std       0.359023  \n",
       "min       0.000000  \n",
       "25%       0.000000  \n",
       "50%       0.000000  \n",
       "75%       0.000000  \n",
       "max       1.000000  "
      ]
     },
     "execution_count": 5,
     "metadata": {},
     "output_type": "execute_result"
    }
   ],
   "source": [
    "df.describe(include='all')#devuelve informacion matematica"
   ]
  },
  {
   "cell_type": "markdown",
   "metadata": {},
   "source": [
    "**Handling missing data**"
   ]
  },
  {
   "cell_type": "code",
   "execution_count": 6,
   "metadata": {
    "execution": {
     "iopub.execute_input": "2023-09-25T04:15:40.737381Z",
     "iopub.status.busy": "2023-09-25T04:15:40.736592Z",
     "iopub.status.idle": "2023-09-25T04:15:40.746293Z",
     "shell.execute_reply": "2023-09-25T04:15:40.745018Z",
     "shell.execute_reply.started": "2023-09-25T04:15:40.737320Z"
    }
   },
   "outputs": [
    {
     "data": {
      "text/plain": [
       "male                 0\n",
       "age                  0\n",
       "education          105\n",
       "currentSmoker        0\n",
       "cigsPerDay          29\n",
       "BPMeds              53\n",
       "prevalentStroke      0\n",
       "prevalentHyp         0\n",
       "diabetes             0\n",
       "totChol             50\n",
       "sysBP                0\n",
       "diaBP                0\n",
       "BMI                 19\n",
       "heartRate            1\n",
       "glucose            388\n",
       "TenYearCHD           0\n",
       "dtype: int64"
      ]
     },
     "execution_count": 6,
     "metadata": {},
     "output_type": "execute_result"
    }
   ],
   "source": [
    "df.isnull().sum() #para revisar datos nulos presentes en el dataset"
   ]
  },
  {
   "cell_type": "code",
   "execution_count": 7,
   "metadata": {
    "execution": {
     "iopub.execute_input": "2023-09-25T04:15:40.748758Z",
     "iopub.status.busy": "2023-09-25T04:15:40.747794Z",
     "iopub.status.idle": "2023-09-25T04:15:40.763580Z",
     "shell.execute_reply": "2023-09-25T04:15:40.762254Z",
     "shell.execute_reply.started": "2023-09-25T04:15:40.748723Z"
    }
   },
   "outputs": [],
   "source": [
    "df['education'].fillna(df['education'].mean(),inplace=True)\n",
    "df['cigsPerDay'].fillna(df['cigsPerDay'].mean(),inplace=True)\n",
    "df['BPMeds'].fillna(df['BPMeds'].mean(),inplace=True)\n",
    "df['totChol'].fillna(df['totChol'].mean(),inplace=True)\n",
    "df['BMI'].fillna(df['BMI'].mean(),inplace=True)\n",
    "df['heartRate'].fillna(df['heartRate'].mean(),inplace=True)\n",
    "df['glucose'].fillna(df['glucose'].mean(),inplace=True)"
   ]
  },
  {
   "cell_type": "code",
   "execution_count": 8,
   "metadata": {
    "execution": {
     "iopub.execute_input": "2023-09-25T04:15:40.766257Z",
     "iopub.status.busy": "2023-09-25T04:15:40.765265Z",
     "iopub.status.idle": "2023-09-25T04:15:40.777141Z",
     "shell.execute_reply": "2023-09-25T04:15:40.775905Z",
     "shell.execute_reply.started": "2023-09-25T04:15:40.766225Z"
    }
   },
   "outputs": [
    {
     "data": {
      "text/plain": [
       "male               0\n",
       "age                0\n",
       "education          0\n",
       "currentSmoker      0\n",
       "cigsPerDay         0\n",
       "BPMeds             0\n",
       "prevalentStroke    0\n",
       "prevalentHyp       0\n",
       "diabetes           0\n",
       "totChol            0\n",
       "sysBP              0\n",
       "diaBP              0\n",
       "BMI                0\n",
       "heartRate          0\n",
       "glucose            0\n",
       "TenYearCHD         0\n",
       "dtype: int64"
      ]
     },
     "execution_count": 8,
     "metadata": {},
     "output_type": "execute_result"
    }
   ],
   "source": [
    "df.isnull().sum() #revisar si hay valores nulos luego de realizar las transformaciones de la celda anterior"
   ]
  },
  {
   "cell_type": "code",
   "execution_count": 9,
   "metadata": {
    "execution": {
     "iopub.execute_input": "2023-09-25T04:15:40.779875Z",
     "iopub.status.busy": "2023-09-25T04:15:40.779430Z",
     "iopub.status.idle": "2023-09-25T04:15:40.798735Z",
     "shell.execute_reply": "2023-09-25T04:15:40.797551Z",
     "shell.execute_reply.started": "2023-09-25T04:15:40.779832Z"
    }
   },
   "outputs": [
    {
     "data": {
      "text/plain": [
       "0"
      ]
     },
     "execution_count": 9,
     "metadata": {},
     "output_type": "execute_result"
    }
   ],
   "source": [
    "df.duplicated().sum() #verificar si hay duplicados"
   ]
  },
  {
   "cell_type": "markdown",
   "metadata": {},
   "source": [
    "**DATA ANALYSIS and visualization**"
   ]
  },
  {
   "cell_type": "code",
   "execution_count": 10,
   "metadata": {
    "execution": {
     "iopub.execute_input": "2023-09-25T04:15:40.805616Z",
     "iopub.status.busy": "2023-09-25T04:15:40.804763Z",
     "iopub.status.idle": "2023-09-25T04:15:41.140590Z",
     "shell.execute_reply": "2023-09-25T04:15:41.139512Z",
     "shell.execute_reply.started": "2023-09-25T04:15:40.805572Z"
    }
   },
   "outputs": [
    {
     "data": {
      "image/png": "[encoded data removed]",
      "text/plain": [
       "<Figure size 600x600 with 1 Axes>"
      ]
     },
     "metadata": {},
     "output_type": "display_data"
    }
   ],
   "source": [
    "#Aanalisis estadisticos\n",
    "plt.figure(figsize=(6,6),facecolor='yellow',edgecolor='black',clear=True)\n",
    "plt.xlabel('Ten Year CHD')\n",
    "plt.ylabel('Frequency')\n",
    "plt.title('Distribution of Ten Year CHD')\n",
    "a=sns.countplot(x=df[\"TenYearCHD\"],width=0.2)\n",
    "for ax in a.containers:\n",
    "    a.bar_label(ax)\n",
    "plt.show()"
   ]
  },
  {
   "cell_type": "code",
   "execution_count": 11,
   "metadata": {
    "execution": {
     "iopub.execute_input": "2023-09-25T04:15:41.142167Z",
     "iopub.status.busy": "2023-09-25T04:15:41.141851Z",
     "iopub.status.idle": "2023-09-25T04:15:41.147473Z",
     "shell.execute_reply": "2023-09-25T04:15:41.146426Z",
     "shell.execute_reply.started": "2023-09-25T04:15:41.142137Z"
    }
   },
   "outputs": [],
   "source": [
    "#encontrar correlacion entre las diferentes columnas"
   ]
  },
  {
   "cell_type": "code",
   "execution_count": 12,
   "metadata": {
    "execution": {
     "iopub.execute_input": "2023-09-25T04:15:41.149467Z",
     "iopub.status.busy": "2023-09-25T04:15:41.149098Z",
     "iopub.status.idle": "2023-09-25T04:15:42.820011Z",
     "shell.execute_reply": "2023-09-25T04:15:42.819144Z",
     "shell.execute_reply.started": "2023-09-25T04:15:41.149437Z"
    }
   },
   "outputs": [
    {
     "data": {
      "text/plain": [
       "<Axes: >"
      ]
     },
     "execution_count": 12,
     "metadata": {},
     "output_type": "execute_result"
    },
    {
     "data": {
      "image/png": "[encoded data removed]",
      "text/plain": [
       "<Figure size 2000x2000 with 2 Axes>"
      ]
     },
     "metadata": {},
     "output_type": "display_data"
    }
   ],
   "source": [
    "plt.figure(figsize=(20,20))\n",
    "corr=df.corr()\n",
    "a=sns.heatmap(corr,annot=True,linecolor='white',linewidths=2,cbar=True,square=True)\n",
    "a"
   ]
  },
  {
   "cell_type": "code",
   "execution_count": 13,
   "metadata": {
    "execution": {
     "iopub.execute_input": "2023-09-25T04:15:42.821776Z",
     "iopub.status.busy": "2023-09-25T04:15:42.821473Z",
     "iopub.status.idle": "2023-09-25T04:15:43.194459Z",
     "shell.execute_reply": "2023-09-25T04:15:43.193257Z",
     "shell.execute_reply.started": "2023-09-25T04:15:42.821749Z"
    }
   },
   "outputs": [
    {
     "data": {
      "image/png": "[encoded data removed]",
      "text/plain": [
       "<Figure size 600x600 with 1 Axes>"
      ]
     },
     "metadata": {},
     "output_type": "display_data"
    }
   ],
   "source": [
    "plt.figure(figsize=(6,6),facecolor='orange',edgecolor='black',clear=True)\n",
    "plt.xlabel('diabetes ')\n",
    "plt.ylabel('cigsPerDay ')\n",
    "plt.title('cigsPerDay vs diabetes')\n",
    "b=sns.barplot(x=df['diabetes'],y=df['cigsPerDay'],width=0.2,color='green',data=df)\n",
    "for ax in b.containers:\n",
    "    b.bar_label(ax)\n",
    "plt.show()\n"
   ]
  },
  {
   "cell_type": "code",
   "execution_count": 14,
   "metadata": {
    "execution": {
     "iopub.execute_input": "2023-09-25T04:15:43.197205Z",
     "iopub.status.busy": "2023-09-25T04:15:43.196165Z",
     "iopub.status.idle": "2023-09-25T04:15:43.202368Z",
     "shell.execute_reply": "2023-09-25T04:15:43.201163Z",
     "shell.execute_reply.started": "2023-09-25T04:15:43.197145Z"
    }
   },
   "outputs": [],
   "source": [
    "# de este gráfico podemos decir que no hay relación entre las personas \n",
    "# que consumen cigarrillos y las personas que padecen diabetes"
   ]
  },
  {
   "cell_type": "markdown",
   "metadata": {},
   "source": [
    "**MACHINE LEARNING ALGORITHM**"
   ]
  },
  {
   "cell_type": "code",
   "execution_count": 15,
   "metadata": {
    "execution": {
     "iopub.execute_input": "2023-09-25T04:15:43.205050Z",
     "iopub.status.busy": "2023-09-25T04:15:43.204264Z",
     "iopub.status.idle": "2023-09-25T04:15:43.219546Z",
     "shell.execute_reply": "2023-09-25T04:15:43.217936Z",
     "shell.execute_reply.started": "2023-09-25T04:15:43.205011Z"
    }
   },
   "outputs": [],
   "source": [
    "X = df.drop('TenYearCHD', axis='columns')\n",
    "y = df['TenYearCHD']"
   ]
  },
  {
   "cell_type": "code",
   "execution_count": 16,
   "metadata": {
    "execution": {
     "iopub.execute_input": "2023-09-25T04:15:43.221830Z",
     "iopub.status.busy": "2023-09-25T04:15:43.221390Z",
     "iopub.status.idle": "2023-09-25T04:15:43.591938Z",
     "shell.execute_reply": "2023-09-25T04:15:43.590622Z",
     "shell.execute_reply.started": "2023-09-25T04:15:43.221788Z"
    }
   },
   "outputs": [],
   "source": [
    "from sklearn.linear_model import LogisticRegression\n",
    "from sklearn.model_selection import train_test_split"
   ]
  },
  {
   "cell_type": "code",
   "execution_count": 17,
   "metadata": {
    "execution": {
     "iopub.execute_input": "2023-09-25T04:15:43.594304Z",
     "iopub.status.busy": "2023-09-25T04:15:43.593867Z",
     "iopub.status.idle": "2023-09-25T04:15:43.606288Z",
     "shell.execute_reply": "2023-09-25T04:15:43.605065Z",
     "shell.execute_reply.started": "2023-09-25T04:15:43.594259Z"
    }
   },
   "outputs": [],
   "source": [
    "X_train,X_test,y_train,y_test=train_test_split(X,y,test_size=0.2)"
   ]
  },
  {
   "cell_type": "code",
   "execution_count": 18,
   "metadata": {
    "execution": {
     "iopub.execute_input": "2023-09-25T04:15:43.608634Z",
     "iopub.status.busy": "2023-09-25T04:15:43.608090Z",
     "iopub.status.idle": "2023-09-25T04:15:43.646105Z",
     "shell.execute_reply": "2023-09-25T04:15:43.644943Z",
     "shell.execute_reply.started": "2023-09-25T04:15:43.608580Z"
    }
   },
   "outputs": [
    {
     "data": {
      "text/html": [
       "<div>\n",
       "<style scoped>\n",
       "    .dataframe tbody tr th:only-of-type {\n",
       "        vertical-align: middle;\n",
       "    }\n",
       "\n",
       "    .dataframe tbody tr th {\n",
       "        vertical-align: top;\n",
       "    }\n",
       "\n",
       "    .dataframe thead th {\n",
       "        text-align: right;\n",
       "    }\n",
       "</style>\n",
       "<table border=\"1\" class=\"dataframe\">\n",
       "  <thead>\n",
       "    <tr style=\"text-align: right;\">\n",
       "      <th></th>\n",
       "      <th>male</th>\n",
       "      <th>age</th>\n",
       "      <th>education</th>\n",
       "      <th>currentSmoker</th>\n",
       "      <th>cigsPerDay</th>\n",
       "      <th>BPMeds</th>\n",
       "      <th>prevalentStroke</th>\n",
       "      <th>prevalentHyp</th>\n",
       "      <th>diabetes</th>\n",
       "      <th>totChol</th>\n",
       "      <th>sysBP</th>\n",
       "      <th>diaBP</th>\n",
       "      <th>BMI</th>\n",
       "      <th>heartRate</th>\n",
       "      <th>glucose</th>\n",
       "    </tr>\n",
       "  </thead>\n",
       "  <tbody>\n",
       "    <tr>\n",
       "      <th>2037</th>\n",
       "      <td>0</td>\n",
       "      <td>41</td>\n",
       "      <td>3.0</td>\n",
       "      <td>0</td>\n",
       "      <td>0.0</td>\n",
       "      <td>0.00000</td>\n",
       "      <td>0</td>\n",
       "      <td>0</td>\n",
       "      <td>0</td>\n",
       "      <td>192.0</td>\n",
       "      <td>103.0</td>\n",
       "      <td>72.5</td>\n",
       "      <td>22.72</td>\n",
       "      <td>61.0</td>\n",
       "      <td>70.000000</td>\n",
       "    </tr>\n",
       "    <tr>\n",
       "      <th>716</th>\n",
       "      <td>1</td>\n",
       "      <td>49</td>\n",
       "      <td>2.0</td>\n",
       "      <td>1</td>\n",
       "      <td>20.0</td>\n",
       "      <td>0.00000</td>\n",
       "      <td>0</td>\n",
       "      <td>1</td>\n",
       "      <td>0</td>\n",
       "      <td>212.0</td>\n",
       "      <td>141.0</td>\n",
       "      <td>99.0</td>\n",
       "      <td>25.94</td>\n",
       "      <td>60.0</td>\n",
       "      <td>70.000000</td>\n",
       "    </tr>\n",
       "    <tr>\n",
       "      <th>496</th>\n",
       "      <td>1</td>\n",
       "      <td>51</td>\n",
       "      <td>2.0</td>\n",
       "      <td>1</td>\n",
       "      <td>13.0</td>\n",
       "      <td>0.00000</td>\n",
       "      <td>0</td>\n",
       "      <td>0</td>\n",
       "      <td>0</td>\n",
       "      <td>245.0</td>\n",
       "      <td>137.0</td>\n",
       "      <td>76.0</td>\n",
       "      <td>22.26</td>\n",
       "      <td>83.0</td>\n",
       "      <td>73.000000</td>\n",
       "    </tr>\n",
       "    <tr>\n",
       "      <th>2929</th>\n",
       "      <td>1</td>\n",
       "      <td>46</td>\n",
       "      <td>1.0</td>\n",
       "      <td>1</td>\n",
       "      <td>15.0</td>\n",
       "      <td>0.00000</td>\n",
       "      <td>0</td>\n",
       "      <td>1</td>\n",
       "      <td>0</td>\n",
       "      <td>212.0</td>\n",
       "      <td>132.0</td>\n",
       "      <td>92.0</td>\n",
       "      <td>22.08</td>\n",
       "      <td>63.0</td>\n",
       "      <td>81.966753</td>\n",
       "    </tr>\n",
       "    <tr>\n",
       "      <th>3172</th>\n",
       "      <td>0</td>\n",
       "      <td>60</td>\n",
       "      <td>1.0</td>\n",
       "      <td>0</td>\n",
       "      <td>0.0</td>\n",
       "      <td>0.00000</td>\n",
       "      <td>0</td>\n",
       "      <td>1</td>\n",
       "      <td>0</td>\n",
       "      <td>279.0</td>\n",
       "      <td>140.5</td>\n",
       "      <td>89.0</td>\n",
       "      <td>22.43</td>\n",
       "      <td>80.0</td>\n",
       "      <td>69.000000</td>\n",
       "    </tr>\n",
       "    <tr>\n",
       "      <th>...</th>\n",
       "      <td>...</td>\n",
       "      <td>...</td>\n",
       "      <td>...</td>\n",
       "      <td>...</td>\n",
       "      <td>...</td>\n",
       "      <td>...</td>\n",
       "      <td>...</td>\n",
       "      <td>...</td>\n",
       "      <td>...</td>\n",
       "      <td>...</td>\n",
       "      <td>...</td>\n",
       "      <td>...</td>\n",
       "      <td>...</td>\n",
       "      <td>...</td>\n",
       "      <td>...</td>\n",
       "    </tr>\n",
       "    <tr>\n",
       "      <th>77</th>\n",
       "      <td>0</td>\n",
       "      <td>44</td>\n",
       "      <td>3.0</td>\n",
       "      <td>1</td>\n",
       "      <td>20.0</td>\n",
       "      <td>0.02963</td>\n",
       "      <td>0</td>\n",
       "      <td>0</td>\n",
       "      <td>0</td>\n",
       "      <td>213.0</td>\n",
       "      <td>115.0</td>\n",
       "      <td>72.5</td>\n",
       "      <td>21.16</td>\n",
       "      <td>80.0</td>\n",
       "      <td>89.000000</td>\n",
       "    </tr>\n",
       "    <tr>\n",
       "      <th>4087</th>\n",
       "      <td>0</td>\n",
       "      <td>56</td>\n",
       "      <td>1.0</td>\n",
       "      <td>1</td>\n",
       "      <td>15.0</td>\n",
       "      <td>0.00000</td>\n",
       "      <td>0</td>\n",
       "      <td>0</td>\n",
       "      <td>0</td>\n",
       "      <td>262.0</td>\n",
       "      <td>126.0</td>\n",
       "      <td>74.0</td>\n",
       "      <td>27.35</td>\n",
       "      <td>90.0</td>\n",
       "      <td>115.000000</td>\n",
       "    </tr>\n",
       "    <tr>\n",
       "      <th>2409</th>\n",
       "      <td>1</td>\n",
       "      <td>47</td>\n",
       "      <td>2.0</td>\n",
       "      <td>1</td>\n",
       "      <td>15.0</td>\n",
       "      <td>0.00000</td>\n",
       "      <td>0</td>\n",
       "      <td>1</td>\n",
       "      <td>0</td>\n",
       "      <td>225.0</td>\n",
       "      <td>137.0</td>\n",
       "      <td>97.0</td>\n",
       "      <td>27.31</td>\n",
       "      <td>66.0</td>\n",
       "      <td>81.966753</td>\n",
       "    </tr>\n",
       "    <tr>\n",
       "      <th>1836</th>\n",
       "      <td>0</td>\n",
       "      <td>61</td>\n",
       "      <td>2.0</td>\n",
       "      <td>0</td>\n",
       "      <td>0.0</td>\n",
       "      <td>0.00000</td>\n",
       "      <td>0</td>\n",
       "      <td>1</td>\n",
       "      <td>0</td>\n",
       "      <td>183.0</td>\n",
       "      <td>150.0</td>\n",
       "      <td>86.0</td>\n",
       "      <td>25.05</td>\n",
       "      <td>66.0</td>\n",
       "      <td>70.000000</td>\n",
       "    </tr>\n",
       "    <tr>\n",
       "      <th>4162</th>\n",
       "      <td>0</td>\n",
       "      <td>47</td>\n",
       "      <td>3.0</td>\n",
       "      <td>1</td>\n",
       "      <td>9.0</td>\n",
       "      <td>0.02963</td>\n",
       "      <td>0</td>\n",
       "      <td>0</td>\n",
       "      <td>0</td>\n",
       "      <td>221.0</td>\n",
       "      <td>127.5</td>\n",
       "      <td>75.0</td>\n",
       "      <td>23.78</td>\n",
       "      <td>69.0</td>\n",
       "      <td>73.000000</td>\n",
       "    </tr>\n",
       "  </tbody>\n",
       "</table>\n",
       "<p>3390 rows × 15 columns</p>\n",
       "</div>"
      ],
      "text/plain": [
       "      male  age  education  currentSmoker  cigsPerDay   BPMeds  \\\n",
       "2037     0   41        3.0              0         0.0  0.00000   \n",
       "716      1   49        2.0              1        20.0  0.00000   \n",
       "496      1   51        2.0              1        13.0  0.00000   \n",
       "2929     1   46        1.0              1        15.0  0.00000   \n",
       "3172     0   60        1.0              0         0.0  0.00000   \n",
       "...    ...  ...        ...            ...         ...      ...   \n",
       "77       0   44        3.0              1        20.0  0.02963   \n",
       "4087     0   56        1.0              1        15.0  0.00000   \n",
       "2409     1   47        2.0              1        15.0  0.00000   \n",
       "1836     0   61        2.0              0         0.0  0.00000   \n",
       "4162     0   47        3.0              1         9.0  0.02963   \n",
       "\n",
       "      prevalentStroke  prevalentHyp  diabetes  totChol  sysBP  diaBP    BMI  \\\n",
       "2037                0             0         0    192.0  103.0   72.5  22.72   \n",
       "716                 0             1         0    212.0  141.0   99.0  25.94   \n",
       "496                 0             0         0    245.0  137.0   76.0  22.26   \n",
       "2929                0             1         0    212.0  132.0   92.0  22.08   \n",
       "3172                0             1         0    279.0  140.5   89.0  22.43   \n",
       "...               ...           ...       ...      ...    ...    ...    ...   \n",
       "77                  0             0         0    213.0  115.0   72.5  21.16   \n",
       "4087                0             0         0    262.0  126.0   74.0  27.35   \n",
       "2409                0             1         0    225.0  137.0   97.0  27.31   \n",
       "1836                0             1         0    183.0  150.0   86.0  25.05   \n",
       "4162                0             0         0    221.0  127.5   75.0  23.78   \n",
       "\n",
       "      heartRate     glucose  \n",
       "2037       61.0   70.000000  \n",
       "716        60.0   70.000000  \n",
       "496        83.0   73.000000  \n",
       "2929       63.0   81.966753  \n",
       "3172       80.0   69.000000  \n",
       "...         ...         ...  \n",
       "77         80.0   89.000000  \n",
       "4087       90.0  115.000000  \n",
       "2409       66.0   81.966753  \n",
       "1836       66.0   70.000000  \n",
       "4162       69.0   73.000000  \n",
       "\n",
       "[3390 rows x 15 columns]"
      ]
     },
     "execution_count": 18,
     "metadata": {},
     "output_type": "execute_result"
    }
   ],
   "source": [
    "X_train"
   ]
  },
  {
   "cell_type": "code",
   "execution_count": 19,
   "metadata": {
    "execution": {
     "iopub.execute_input": "2023-09-25T04:15:43.648798Z",
     "iopub.status.busy": "2023-09-25T04:15:43.647936Z",
     "iopub.status.idle": "2023-09-25T04:15:43.682618Z",
     "shell.execute_reply": "2023-09-25T04:15:43.681261Z",
     "shell.execute_reply.started": "2023-09-25T04:15:43.648752Z"
    }
   },
   "outputs": [
    {
     "data": {
      "text/html": [
       "<div>\n",
       "<style scoped>\n",
       "    .dataframe tbody tr th:only-of-type {\n",
       "        vertical-align: middle;\n",
       "    }\n",
       "\n",
       "    .dataframe tbody tr th {\n",
       "        vertical-align: top;\n",
       "    }\n",
       "\n",
       "    .dataframe thead th {\n",
       "        text-align: right;\n",
       "    }\n",
       "</style>\n",
       "<table border=\"1\" class=\"dataframe\">\n",
       "  <thead>\n",
       "    <tr style=\"text-align: right;\">\n",
       "      <th></th>\n",
       "      <th>male</th>\n",
       "      <th>age</th>\n",
       "      <th>education</th>\n",
       "      <th>currentSmoker</th>\n",
       "      <th>cigsPerDay</th>\n",
       "      <th>BPMeds</th>\n",
       "      <th>prevalentStroke</th>\n",
       "      <th>prevalentHyp</th>\n",
       "      <th>diabetes</th>\n",
       "      <th>totChol</th>\n",
       "      <th>sysBP</th>\n",
       "      <th>diaBP</th>\n",
       "      <th>BMI</th>\n",
       "      <th>heartRate</th>\n",
       "      <th>glucose</th>\n",
       "    </tr>\n",
       "  </thead>\n",
       "  <tbody>\n",
       "    <tr>\n",
       "      <th>562</th>\n",
       "      <td>0</td>\n",
       "      <td>39</td>\n",
       "      <td>2.0</td>\n",
       "      <td>0</td>\n",
       "      <td>0.0</td>\n",
       "      <td>0.0</td>\n",
       "      <td>0</td>\n",
       "      <td>1</td>\n",
       "      <td>0</td>\n",
       "      <td>252.0</td>\n",
       "      <td>128.0</td>\n",
       "      <td>93.0</td>\n",
       "      <td>30.36</td>\n",
       "      <td>105.0</td>\n",
       "      <td>63.000000</td>\n",
       "    </tr>\n",
       "    <tr>\n",
       "      <th>3613</th>\n",
       "      <td>0</td>\n",
       "      <td>41</td>\n",
       "      <td>3.0</td>\n",
       "      <td>0</td>\n",
       "      <td>0.0</td>\n",
       "      <td>0.0</td>\n",
       "      <td>0</td>\n",
       "      <td>0</td>\n",
       "      <td>0</td>\n",
       "      <td>166.0</td>\n",
       "      <td>128.5</td>\n",
       "      <td>74.5</td>\n",
       "      <td>21.02</td>\n",
       "      <td>81.0</td>\n",
       "      <td>81.966753</td>\n",
       "    </tr>\n",
       "    <tr>\n",
       "      <th>3025</th>\n",
       "      <td>1</td>\n",
       "      <td>53</td>\n",
       "      <td>2.0</td>\n",
       "      <td>1</td>\n",
       "      <td>20.0</td>\n",
       "      <td>0.0</td>\n",
       "      <td>0</td>\n",
       "      <td>0</td>\n",
       "      <td>0</td>\n",
       "      <td>239.0</td>\n",
       "      <td>122.0</td>\n",
       "      <td>82.0</td>\n",
       "      <td>29.40</td>\n",
       "      <td>70.0</td>\n",
       "      <td>84.000000</td>\n",
       "    </tr>\n",
       "    <tr>\n",
       "      <th>2064</th>\n",
       "      <td>0</td>\n",
       "      <td>42</td>\n",
       "      <td>4.0</td>\n",
       "      <td>1</td>\n",
       "      <td>5.0</td>\n",
       "      <td>0.0</td>\n",
       "      <td>0</td>\n",
       "      <td>0</td>\n",
       "      <td>0</td>\n",
       "      <td>228.0</td>\n",
       "      <td>127.5</td>\n",
       "      <td>80.0</td>\n",
       "      <td>27.54</td>\n",
       "      <td>75.0</td>\n",
       "      <td>81.966753</td>\n",
       "    </tr>\n",
       "    <tr>\n",
       "      <th>1226</th>\n",
       "      <td>0</td>\n",
       "      <td>38</td>\n",
       "      <td>2.0</td>\n",
       "      <td>1</td>\n",
       "      <td>9.0</td>\n",
       "      <td>0.0</td>\n",
       "      <td>0</td>\n",
       "      <td>0</td>\n",
       "      <td>0</td>\n",
       "      <td>160.0</td>\n",
       "      <td>102.5</td>\n",
       "      <td>67.5</td>\n",
       "      <td>21.16</td>\n",
       "      <td>90.0</td>\n",
       "      <td>68.000000</td>\n",
       "    </tr>\n",
       "    <tr>\n",
       "      <th>...</th>\n",
       "      <td>...</td>\n",
       "      <td>...</td>\n",
       "      <td>...</td>\n",
       "      <td>...</td>\n",
       "      <td>...</td>\n",
       "      <td>...</td>\n",
       "      <td>...</td>\n",
       "      <td>...</td>\n",
       "      <td>...</td>\n",
       "      <td>...</td>\n",
       "      <td>...</td>\n",
       "      <td>...</td>\n",
       "      <td>...</td>\n",
       "      <td>...</td>\n",
       "      <td>...</td>\n",
       "    </tr>\n",
       "    <tr>\n",
       "      <th>1866</th>\n",
       "      <td>0</td>\n",
       "      <td>42</td>\n",
       "      <td>3.0</td>\n",
       "      <td>0</td>\n",
       "      <td>0.0</td>\n",
       "      <td>0.0</td>\n",
       "      <td>0</td>\n",
       "      <td>0</td>\n",
       "      <td>0</td>\n",
       "      <td>252.0</td>\n",
       "      <td>102.0</td>\n",
       "      <td>72.5</td>\n",
       "      <td>22.85</td>\n",
       "      <td>60.0</td>\n",
       "      <td>81.966753</td>\n",
       "    </tr>\n",
       "    <tr>\n",
       "      <th>1409</th>\n",
       "      <td>0</td>\n",
       "      <td>63</td>\n",
       "      <td>2.0</td>\n",
       "      <td>0</td>\n",
       "      <td>0.0</td>\n",
       "      <td>0.0</td>\n",
       "      <td>0</td>\n",
       "      <td>0</td>\n",
       "      <td>0</td>\n",
       "      <td>192.0</td>\n",
       "      <td>143.0</td>\n",
       "      <td>87.0</td>\n",
       "      <td>23.64</td>\n",
       "      <td>75.0</td>\n",
       "      <td>100.000000</td>\n",
       "    </tr>\n",
       "    <tr>\n",
       "      <th>1533</th>\n",
       "      <td>0</td>\n",
       "      <td>54</td>\n",
       "      <td>1.0</td>\n",
       "      <td>0</td>\n",
       "      <td>0.0</td>\n",
       "      <td>0.0</td>\n",
       "      <td>0</td>\n",
       "      <td>0</td>\n",
       "      <td>0</td>\n",
       "      <td>218.0</td>\n",
       "      <td>130.0</td>\n",
       "      <td>85.0</td>\n",
       "      <td>20.55</td>\n",
       "      <td>72.0</td>\n",
       "      <td>85.000000</td>\n",
       "    </tr>\n",
       "    <tr>\n",
       "      <th>4173</th>\n",
       "      <td>0</td>\n",
       "      <td>54</td>\n",
       "      <td>2.0</td>\n",
       "      <td>0</td>\n",
       "      <td>0.0</td>\n",
       "      <td>0.0</td>\n",
       "      <td>0</td>\n",
       "      <td>1</td>\n",
       "      <td>0</td>\n",
       "      <td>302.0</td>\n",
       "      <td>210.0</td>\n",
       "      <td>127.5</td>\n",
       "      <td>31.98</td>\n",
       "      <td>68.0</td>\n",
       "      <td>79.000000</td>\n",
       "    </tr>\n",
       "    <tr>\n",
       "      <th>3749</th>\n",
       "      <td>0</td>\n",
       "      <td>54</td>\n",
       "      <td>1.0</td>\n",
       "      <td>0</td>\n",
       "      <td>0.0</td>\n",
       "      <td>0.0</td>\n",
       "      <td>0</td>\n",
       "      <td>0</td>\n",
       "      <td>1</td>\n",
       "      <td>223.0</td>\n",
       "      <td>110.0</td>\n",
       "      <td>67.5</td>\n",
       "      <td>21.22</td>\n",
       "      <td>78.0</td>\n",
       "      <td>294.000000</td>\n",
       "    </tr>\n",
       "  </tbody>\n",
       "</table>\n",
       "<p>848 rows × 15 columns</p>\n",
       "</div>"
      ],
      "text/plain": [
       "      male  age  education  currentSmoker  cigsPerDay  BPMeds  \\\n",
       "562      0   39        2.0              0         0.0     0.0   \n",
       "3613     0   41        3.0              0         0.0     0.0   \n",
       "3025     1   53        2.0              1        20.0     0.0   \n",
       "2064     0   42        4.0              1         5.0     0.0   \n",
       "1226     0   38        2.0              1         9.0     0.0   \n",
       "...    ...  ...        ...            ...         ...     ...   \n",
       "1866     0   42        3.0              0         0.0     0.0   \n",
       "1409     0   63        2.0              0         0.0     0.0   \n",
       "1533     0   54        1.0              0         0.0     0.0   \n",
       "4173     0   54        2.0              0         0.0     0.0   \n",
       "3749     0   54        1.0              0         0.0     0.0   \n",
       "\n",
       "      prevalentStroke  prevalentHyp  diabetes  totChol  sysBP  diaBP    BMI  \\\n",
       "562                 0             1         0    252.0  128.0   93.0  30.36   \n",
       "3613                0             0         0    166.0  128.5   74.5  21.02   \n",
       "3025                0             0         0    239.0  122.0   82.0  29.40   \n",
       "2064                0             0         0    228.0  127.5   80.0  27.54   \n",
       "1226                0             0         0    160.0  102.5   67.5  21.16   \n",
       "...               ...           ...       ...      ...    ...    ...    ...   \n",
       "1866                0             0         0    252.0  102.0   72.5  22.85   \n",
       "1409                0             0         0    192.0  143.0   87.0  23.64   \n",
       "1533                0             0         0    218.0  130.0   85.0  20.55   \n",
       "4173                0             1         0    302.0  210.0  127.5  31.98   \n",
       "3749                0             0         1    223.0  110.0   67.5  21.22   \n",
       "\n",
       "      heartRate     glucose  \n",
       "562       105.0   63.000000  \n",
       "3613       81.0   81.966753  \n",
       "3025       70.0   84.000000  \n",
       "2064       75.0   81.966753  \n",
       "1226       90.0   68.000000  \n",
       "...         ...         ...  \n",
       "1866       60.0   81.966753  \n",
       "1409       75.0  100.000000  \n",
       "1533       72.0   85.000000  \n",
       "4173       68.0   79.000000  \n",
       "3749       78.0  294.000000  \n",
       "\n",
       "[848 rows x 15 columns]"
      ]
     },
     "execution_count": 19,
     "metadata": {},
     "output_type": "execute_result"
    }
   ],
   "source": [
    "X_test"
   ]
  },
  {
   "cell_type": "code",
   "execution_count": 20,
   "metadata": {
    "execution": {
     "iopub.execute_input": "2023-09-25T04:15:43.685507Z",
     "iopub.status.busy": "2023-09-25T04:15:43.684714Z",
     "iopub.status.idle": "2023-09-25T04:15:43.697469Z",
     "shell.execute_reply": "2023-09-25T04:15:43.696237Z",
     "shell.execute_reply.started": "2023-09-25T04:15:43.685444Z"
    }
   },
   "outputs": [
    {
     "data": {
      "text/plain": [
       "2037    0\n",
       "716     0\n",
       "496     0\n",
       "2929    0\n",
       "3172    0\n",
       "       ..\n",
       "77      0\n",
       "4087    0\n",
       "2409    0\n",
       "1836    1\n",
       "4162    0\n",
       "Name: TenYearCHD, Length: 3390, dtype: int64"
      ]
     },
     "execution_count": 20,
     "metadata": {},
     "output_type": "execute_result"
    }
   ],
   "source": [
    "y_train"
   ]
  },
  {
   "cell_type": "code",
   "execution_count": 21,
   "metadata": {
    "execution": {
     "iopub.execute_input": "2023-09-25T04:15:43.699666Z",
     "iopub.status.busy": "2023-09-25T04:15:43.699143Z",
     "iopub.status.idle": "2023-09-25T04:15:43.709333Z",
     "shell.execute_reply": "2023-09-25T04:15:43.708259Z",
     "shell.execute_reply.started": "2023-09-25T04:15:43.699622Z"
    }
   },
   "outputs": [
    {
     "data": {
      "text/plain": [
       "562     0\n",
       "3613    0\n",
       "3025    0\n",
       "2064    0\n",
       "1226    0\n",
       "       ..\n",
       "1866    0\n",
       "1409    0\n",
       "1533    0\n",
       "4173    0\n",
       "3749    0\n",
       "Name: TenYearCHD, Length: 848, dtype: int64"
      ]
     },
     "execution_count": 21,
     "metadata": {},
     "output_type": "execute_result"
    }
   ],
   "source": [
    "y_test"
   ]
  },
  {
   "cell_type": "markdown",
   "metadata": {},
   "source": [
    "**Logistic Regression model**"
   ]
  },
  {
   "cell_type": "code",
   "execution_count": 22,
   "metadata": {
    "execution": {
     "iopub.execute_input": "2023-09-25T04:15:43.712008Z",
     "iopub.status.busy": "2023-09-25T04:15:43.711254Z",
     "iopub.status.idle": "2023-09-25T04:15:43.937073Z",
     "shell.execute_reply": "2023-09-25T04:15:43.935935Z",
     "shell.execute_reply.started": "2023-09-25T04:15:43.711968Z"
    }
   },
   "outputs": [
    {
     "name": "stderr",
     "output_type": "stream",
     "text": [
      "/opt/conda/lib/python3.10/site-packages/sklearn/linear_model/_logistic.py:458: ConvergenceWarning: lbfgs failed to converge (status=1):\n",
      "STOP: TOTAL NO. of ITERATIONS REACHED LIMIT.\n",
      "\n",
      "Increase the number of iterations (max_iter) or scale the data as shown in:\n",
      "    https://scikit-learn.org/stable/modules/preprocessing.html\n",
      "Please also refer to the documentation for alternative solver options:\n",
      "    https://scikit-learn.org/stable/modules/linear_model.html#logistic-regression\n",
      "  n_iter_i = _check_optimize_result(\n"
     ]
    },
    {
     "data": {
      "text/html": [
       "<style>#sk-container-id-1 {color: black;background-color: white;}#sk-container-id-1 pre{padding: 0;}#sk-container-id-1 div.sk-toggleable {background-color: white;}#sk-container-id-1 label.sk-toggleable__label {cursor: pointer;display: block;width: 100%;margin-bottom: 0;padding: 0.3em;box-sizing: border-box;text-align: center;}#sk-container-id-1 label.sk-toggleable__label-arrow:before {content: \"▸\";float: left;margin-right: 0.25em;color: #696969;}#sk-container-id-1 label.sk-toggleable__label-arrow:hover:before {color: black;}#sk-container-id-1 div.sk-estimator:hover label.sk-toggleable__label-arrow:before {color: black;}#sk-container-id-1 div.sk-toggleable__content {max-height: 0;max-width: 0;overflow: hidden;text-align: left;background-color: #f0f8ff;}#sk-container-id-1 div.sk-toggleable__content pre {margin: 0.2em;color: black;border-radius: 0.25em;background-color: #f0f8ff;}#sk-container-id-1 input.sk-toggleable__control:checked~div.sk-toggleable__content {max-height: 200px;max-width: 100%;overflow: auto;}#sk-container-id-1 input.sk-toggleable__control:checked~label.sk-toggleable__label-arrow:before {content: \"▾\";}#sk-container-id-1 div.sk-estimator input.sk-toggleable__control:checked~label.sk-toggleable__label {background-color: #d4ebff;}#sk-container-id-1 div.sk-label input.sk-toggleable__control:checked~label.sk-toggleable__label {background-color: #d4ebff;}#sk-container-id-1 input.sk-hidden--visually {border: 0;clip: rect(1px 1px 1px 1px);clip: rect(1px, 1px, 1px, 1px);height: 1px;margin: -1px;overflow: hidden;padding: 0;position: absolute;width: 1px;}#sk-container-id-1 div.sk-estimator {font-family: monospace;background-color: #f0f8ff;border: 1px dotted black;border-radius: 0.25em;box-sizing: border-box;margin-bottom: 0.5em;}#sk-container-id-1 div.sk-estimator:hover {background-color: #d4ebff;}#sk-container-id-1 div.sk-parallel-item::after {content: \"\";width: 100%;border-bottom: 1px solid gray;flex-grow: 1;}#sk-container-id-1 div.sk-label:hover label.sk-toggleable__label {background-color: #d4ebff;}#sk-container-id-1 div.sk-serial::before {content: \"\";position: absolute;border-left: 1px solid gray;box-sizing: border-box;top: 0;bottom: 0;left: 50%;z-index: 0;}#sk-container-id-1 div.sk-serial {display: flex;flex-direction: column;align-items: center;background-color: white;padding-right: 0.2em;padding-left: 0.2em;position: relative;}#sk-container-id-1 div.sk-item {position: relative;z-index: 1;}#sk-container-id-1 div.sk-parallel {display: flex;align-items: stretch;justify-content: center;background-color: white;position: relative;}#sk-container-id-1 div.sk-item::before, #sk-container-id-1 div.sk-parallel-item::before {content: \"\";position: absolute;border-left: 1px solid gray;box-sizing: border-box;top: 0;bottom: 0;left: 50%;z-index: -1;}#sk-container-id-1 div.sk-parallel-item {display: flex;flex-direction: column;z-index: 1;position: relative;background-color: white;}#sk-container-id-1 div.sk-parallel-item:first-child::after {align-self: flex-end;width: 50%;}#sk-container-id-1 div.sk-parallel-item:last-child::after {align-self: flex-start;width: 50%;}#sk-container-id-1 div.sk-parallel-item:only-child::after {width: 0;}#sk-container-id-1 div.sk-dashed-wrapped {border: 1px dashed gray;margin: 0 0.4em 0.5em 0.4em;box-sizing: border-box;padding-bottom: 0.4em;background-color: white;}#sk-container-id-1 div.sk-label label {font-family: monospace;font-weight: bold;display: inline-block;line-height: 1.2em;}#sk-container-id-1 div.sk-label-container {text-align: center;}#sk-container-id-1 div.sk-container {/* jupyter's `normalize.less` sets `[hidden] { display: none; }` but bootstrap.min.css set `[hidden] { display: none !important; }` so we also need the `!important` here to be able to override the default hidden behavior on the sphinx rendered scikit-learn.org. See: https://github.com/scikit-learn/scikit-learn/issues/21755 */display: inline-block !important;position: relative;}#sk-container-id-1 div.sk-text-repr-fallback {display: none;}</style><div id=\"sk-container-id-1\" class=\"sk-top-container\"><div class=\"sk-text-repr-fallback\"><pre>LogisticRegression()</pre><b>In a Jupyter environment, please rerun this cell to show the HTML representation or trust the notebook. <br />On GitHub, the HTML representation is unable to render, please try loading this page with nbviewer.org.</b></div><div class=\"sk-container\" hidden><div class=\"sk-item\"><div class=\"sk-estimator sk-toggleable\"><input class=\"sk-toggleable__control sk-hidden--visually\" id=\"sk-estimator-id-1\" type=\"checkbox\" checked><label for=\"sk-estimator-id-1\" class=\"sk-toggleable__label sk-toggleable__label-arrow\">LogisticRegression</label><div class=\"sk-toggleable__content\"><pre>LogisticRegression()</pre></div></div></div></div></div>"
      ],
      "text/plain": [
       "LogisticRegression()"
      ]
     },
     "execution_count": 22,
     "metadata": {},
     "output_type": "execute_result"
    }
   ],
   "source": [
    "reg=LogisticRegression()\n",
    "reg.fit(X_train,y_train)"
   ]
  },
  {
   "cell_type": "code",
   "execution_count": 23,
   "metadata": {
    "execution": {
     "iopub.execute_input": "2023-09-25T04:15:43.944528Z",
     "iopub.status.busy": "2023-09-25T04:15:43.943239Z",
     "iopub.status.idle": "2023-09-25T04:15:43.972955Z",
     "shell.execute_reply": "2023-09-25T04:15:43.971071Z",
     "shell.execute_reply.started": "2023-09-25T04:15:43.944461Z"
    }
   },
   "outputs": [
    {
     "data": {
      "text/plain": [
       "array([0, 0, 0, 0, 0, 0, 0, 0, 0, 0, 0, 0, 0, 0, 0, 0, 0, 0, 0, 0, 0, 0,\n",
       "       0, 0, 0, 0, 0, 0, 0, 0, 0, 0, 0, 0, 0, 0, 0, 0, 0, 0, 1, 0, 0, 0,\n",
       "       0, 0, 0, 0, 0, 0, 0, 0, 0, 0, 0, 0, 0, 0, 0, 0, 0, 0, 0, 0, 0, 0,\n",
       "       0, 0, 0, 0, 0, 0, 0, 0, 0, 0, 0, 0, 0, 0, 0, 0, 0, 0, 0, 0, 0, 0,\n",
       "       0, 0, 0, 0, 0, 0, 0, 0, 0, 0, 0, 0, 0, 0, 0, 0, 0, 0, 0, 0, 0, 0,\n",
       "       0, 0, 0, 0, 0, 0, 0, 0, 0, 0, 0, 0, 0, 0, 0, 0, 0, 0, 0, 0, 0, 0,\n",
       "       0, 0, 0, 0, 0, 0, 0, 0, 0, 0, 0, 0, 0, 0, 0, 0, 0, 0, 0, 0, 0, 0,\n",
       "       0, 0, 0, 0, 0, 0, 0, 0, 0, 0, 0, 0, 0, 0, 0, 0, 0, 0, 0, 0, 0, 0,\n",
       "       0, 0, 0, 0, 0, 0, 0, 0, 0, 0, 0, 0, 0, 0, 0, 0, 0, 0, 0, 0, 0, 0,\n",
       "       0, 0, 0, 0, 0, 0, 0, 0, 0, 0, 0, 0, 0, 0, 0, 0, 0, 0, 0, 0, 0, 0,\n",
       "       0, 0, 0, 0, 0, 0, 0, 0, 0, 0, 0, 0, 0, 0, 0, 0, 0, 0, 0, 0, 0, 0,\n",
       "       0, 0, 0, 0, 0, 0, 0, 0, 0, 0, 0, 0, 0, 0, 0, 0, 0, 0, 0, 0, 0, 1,\n",
       "       0, 0, 0, 0, 0, 0, 0, 0, 0, 0, 0, 0, 0, 1, 0, 0, 0, 0, 0, 0, 0, 0,\n",
       "       0, 0, 0, 0, 0, 0, 0, 0, 0, 0, 0, 0, 0, 0, 0, 0, 0, 0, 0, 0, 0, 0,\n",
       "       0, 0, 0, 0, 0, 0, 0, 0, 0, 0, 0, 0, 0, 0, 0, 0, 0, 0, 0, 0, 0, 0,\n",
       "       0, 0, 0, 0, 0, 0, 0, 0, 0, 0, 0, 0, 0, 0, 0, 0, 0, 0, 0, 0, 0, 0,\n",
       "       0, 0, 0, 0, 0, 0, 0, 0, 0, 0, 0, 0, 0, 0, 0, 0, 0, 0, 0, 0, 0, 0,\n",
       "       0, 0, 0, 0, 0, 0, 0, 0, 0, 0, 0, 0, 0, 0, 0, 0, 0, 0, 0, 0, 0, 0,\n",
       "       0, 0, 0, 0, 0, 0, 0, 0, 0, 0, 0, 0, 0, 0, 0, 0, 0, 0, 0, 0, 0, 0,\n",
       "       0, 0, 0, 0, 0, 0, 0, 0, 0, 0, 0, 0, 0, 0, 0, 0, 0, 0, 0, 0, 0, 0,\n",
       "       0, 0, 0, 0, 0, 0, 0, 0, 0, 0, 0, 0, 0, 0, 0, 0, 0, 0, 0, 0, 0, 0,\n",
       "       0, 0, 0, 0, 0, 0, 0, 0, 0, 0, 0, 0, 0, 0, 0, 0, 0, 0, 0, 0, 0, 0,\n",
       "       0, 0, 0, 0, 0, 0, 0, 0, 0, 0, 0, 0, 0, 0, 0, 0, 0, 0, 0, 0, 0, 0,\n",
       "       0, 0, 0, 0, 0, 0, 0, 0, 0, 0, 0, 0, 0, 0, 0, 0, 0, 0, 0, 0, 0, 0,\n",
       "       0, 0, 0, 0, 0, 0, 0, 0, 0, 0, 0, 0, 0, 0, 0, 0, 0, 0, 0, 0, 0, 0,\n",
       "       0, 0, 0, 0, 0, 0, 0, 0, 0, 0, 0, 0, 0, 0, 0, 0, 0, 0, 0, 0, 0, 0,\n",
       "       0, 0, 0, 0, 0, 0, 0, 0, 0, 0, 0, 0, 0, 0, 0, 0, 0, 0, 0, 0, 0, 0,\n",
       "       0, 0, 0, 0, 0, 0, 0, 0, 0, 0, 0, 0, 0, 0, 0, 0, 0, 0, 0, 0, 0, 0,\n",
       "       0, 0, 0, 0, 0, 0, 0, 0, 0, 0, 1, 0, 0, 0, 0, 0, 0, 0, 0, 0, 0, 0,\n",
       "       0, 0, 0, 0, 0, 0, 0, 0, 0, 0, 0, 0, 0, 0, 0, 0, 0, 0, 0, 0, 0, 0,\n",
       "       0, 0, 0, 0, 0, 0, 0, 0, 1, 0, 0, 0, 0, 0, 0, 0, 0, 0, 0, 0, 0, 0,\n",
       "       0, 0, 0, 0, 0, 0, 0, 0, 0, 0, 0, 0, 0, 0, 0, 0, 0, 0, 0, 0, 0, 0,\n",
       "       0, 0, 0, 0, 0, 0, 0, 0, 0, 0, 0, 0, 0, 0, 0, 0, 0, 0, 0, 0, 0, 0,\n",
       "       0, 0, 0, 0, 0, 0, 0, 0, 0, 0, 0, 0, 0, 0, 0, 0, 0, 0, 0, 0, 0, 0,\n",
       "       0, 0, 0, 0, 0, 0, 0, 0, 0, 0, 0, 0, 0, 0, 0, 0, 0, 0, 0, 0, 0, 0,\n",
       "       0, 0, 0, 0, 0, 0, 1, 0, 0, 0, 0, 0, 0, 0, 0, 0, 0, 0, 0, 0, 0, 0,\n",
       "       0, 0, 0, 0, 0, 0, 0, 0, 0, 0, 0, 0, 0, 0, 0, 0, 0, 0, 0, 0, 0, 0,\n",
       "       0, 0, 1, 0, 0, 0, 0, 0, 0, 0, 0, 0, 0, 0, 0, 0, 0, 0, 0, 0, 0, 0,\n",
       "       0, 0, 0, 0, 0, 0, 0, 0, 0, 0, 0, 0])"
      ]
     },
     "execution_count": 23,
     "metadata": {},
     "output_type": "execute_result"
    }
   ],
   "source": [
    "reg.predict(X_test)"
   ]
  },
  {
   "cell_type": "code",
   "execution_count": 24,
   "metadata": {
    "execution": {
     "iopub.execute_input": "2023-09-25T04:15:43.976804Z",
     "iopub.status.busy": "2023-09-25T04:15:43.975275Z",
     "iopub.status.idle": "2023-09-25T04:15:43.997978Z",
     "shell.execute_reply": "2023-09-25T04:15:43.996576Z",
     "shell.execute_reply.started": "2023-09-25T04:15:43.976744Z"
    }
   },
   "outputs": [
    {
     "name": "stdout",
     "output_type": "stream",
     "text": [
      "testing score : 0.8655660377358491\n",
      "training score : 0.8474926253687316\n"
     ]
    }
   ],
   "source": [
    "print(\"testing score :\",reg.score(X_test,y_test))\n",
    "print(\"training score :\",reg.score(X_train,y_train))"
   ]
  },
  {
   "cell_type": "code",
   "execution_count": 25,
   "metadata": {
    "execution": {
     "iopub.execute_input": "2023-09-25T04:15:44.002059Z",
     "iopub.status.busy": "2023-09-25T04:15:44.000500Z",
     "iopub.status.idle": "2023-09-25T04:15:44.014205Z",
     "shell.execute_reply": "2023-09-25T04:15:44.011691Z",
     "shell.execute_reply.started": "2023-09-25T04:15:44.001993Z"
    }
   },
   "outputs": [],
   "source": [
    "#from this we can tell that it is 85 % accurate"
   ]
  },
  {
   "cell_type": "code",
   "execution_count": 26,
   "metadata": {
    "execution": {
     "iopub.execute_input": "2023-09-25T04:15:44.020052Z",
     "iopub.status.busy": "2023-09-25T04:15:44.017680Z",
     "iopub.status.idle": "2023-09-25T04:15:44.041628Z",
     "shell.execute_reply": "2023-09-25T04:15:44.040188Z",
     "shell.execute_reply.started": "2023-09-25T04:15:44.019985Z"
    }
   },
   "outputs": [
    {
     "name": "stderr",
     "output_type": "stream",
     "text": [
      "/opt/conda/lib/python3.10/site-packages/sklearn/base.py:439: UserWarning: X does not have valid feature names, but LogisticRegression was fitted with feature names\n",
      "  warnings.warn(\n"
     ]
    },
    {
     "data": {
      "text/plain": [
       "array([0])"
      ]
     },
     "execution_count": 26,
     "metadata": {},
     "output_type": "execute_result"
    }
   ],
   "source": [
    "reg.predict([[1,19,3.0,0,0.0,0,0,0,0,190,110,70,25,75,75]])"
   ]
  },
  {
   "cell_type": "code",
   "execution_count": 27,
   "metadata": {
    "execution": {
     "iopub.execute_input": "2023-09-25T04:15:44.044836Z",
     "iopub.status.busy": "2023-09-25T04:15:44.044307Z",
     "iopub.status.idle": "2023-09-25T04:15:44.062801Z",
     "shell.execute_reply": "2023-09-25T04:15:44.061147Z",
     "shell.execute_reply.started": "2023-09-25T04:15:44.044786Z"
    }
   },
   "outputs": [],
   "source": [
    "y_pred = reg.predict(X_train)"
   ]
  },
  {
   "cell_type": "code",
   "execution_count": 28,
   "metadata": {
    "execution": {
     "iopub.execute_input": "2023-09-25T04:15:44.084497Z",
     "iopub.status.busy": "2023-09-25T04:15:44.081966Z",
     "iopub.status.idle": "2023-09-25T04:15:44.451909Z",
     "shell.execute_reply": "2023-09-25T04:15:44.450703Z",
     "shell.execute_reply.started": "2023-09-25T04:15:44.084428Z"
    }
   },
   "outputs": [
    {
     "data": {
      "image/png": "[encoded data removed]",
      "text/plain": [
       "<Figure size 640x480 with 2 Axes>"
      ]
     },
     "metadata": {},
     "output_type": "display_data"
    }
   ],
   "source": [
    "from sklearn.metrics import confusion_matrix\n",
    "column_labels = list(y_train.unique())\n",
    "cm=confusion_matrix(y_train,y_pred,labels=column_labels)\n",
    "cm\n",
    "sns.heatmap(cm,annot=True,fmt=\"d\", cmap=\"Purples\", xticklabels=column_labels, yticklabels=column_labels)\n",
    "plt.xlabel('Predicted')\n",
    "plt.ylabel('True')\n",
    "plt.title('Confusion Matrix')\n",
    "plt.show()"
   ]
  },
  {
   "cell_type": "markdown",
   "metadata": {},
   "source": []
  },
  {
   "cell_type": "markdown",
   "metadata": {},
   "source": [
    "**to check for linear regression**"
   ]
  },
  {
   "cell_type": "code",
   "execution_count": 29,
   "metadata": {
    "execution": {
     "iopub.execute_input": "2023-09-25T04:15:44.454993Z",
     "iopub.status.busy": "2023-09-25T04:15:44.453510Z",
     "iopub.status.idle": "2023-09-25T04:15:44.460727Z",
     "shell.execute_reply": "2023-09-25T04:15:44.459496Z",
     "shell.execute_reply.started": "2023-09-25T04:15:44.454949Z"
    }
   },
   "outputs": [],
   "source": [
    "from sklearn.linear_model import LinearRegression"
   ]
  },
  {
   "cell_type": "code",
   "execution_count": 30,
   "metadata": {
    "execution": {
     "iopub.execute_input": "2023-09-25T04:15:44.463068Z",
     "iopub.status.busy": "2023-09-25T04:15:44.462659Z",
     "iopub.status.idle": "2023-09-25T04:15:44.472937Z",
     "shell.execute_reply": "2023-09-25T04:15:44.472069Z",
     "shell.execute_reply.started": "2023-09-25T04:15:44.463027Z"
    }
   },
   "outputs": [],
   "source": [
    "model=LinearRegression()"
   ]
  },
  {
   "cell_type": "code",
   "execution_count": 31,
   "metadata": {
    "execution": {
     "iopub.execute_input": "2023-09-25T04:15:44.475234Z",
     "iopub.status.busy": "2023-09-25T04:15:44.474426Z",
     "iopub.status.idle": "2023-09-25T04:15:44.520487Z",
     "shell.execute_reply": "2023-09-25T04:15:44.518080Z",
     "shell.execute_reply.started": "2023-09-25T04:15:44.475161Z"
    }
   },
   "outputs": [
    {
     "data": {
      "text/html": [
       "<style>#sk-container-id-2 {color: black;background-color: white;}#sk-container-id-2 pre{padding: 0;}#sk-container-id-2 div.sk-toggleable {background-color: white;}#sk-container-id-2 label.sk-toggleable__label {cursor: pointer;display: block;width: 100%;margin-bottom: 0;padding: 0.3em;box-sizing: border-box;text-align: center;}#sk-container-id-2 label.sk-toggleable__label-arrow:before {content: \"▸\";float: left;margin-right: 0.25em;color: #696969;}#sk-container-id-2 label.sk-toggleable__label-arrow:hover:before {color: black;}#sk-container-id-2 div.sk-estimator:hover label.sk-toggleable__label-arrow:before {color: black;}#sk-container-id-2 div.sk-toggleable__content {max-height: 0;max-width: 0;overflow: hidden;text-align: left;background-color: #f0f8ff;}#sk-container-id-2 div.sk-toggleable__content pre {margin: 0.2em;color: black;border-radius: 0.25em;background-color: #f0f8ff;}#sk-container-id-2 input.sk-toggleable__control:checked~div.sk-toggleable__content {max-height: 200px;max-width: 100%;overflow: auto;}#sk-container-id-2 input.sk-toggleable__control:checked~label.sk-toggleable__label-arrow:before {content: \"▾\";}#sk-container-id-2 div.sk-estimator input.sk-toggleable__control:checked~label.sk-toggleable__label {background-color: #d4ebff;}#sk-container-id-2 div.sk-label input.sk-toggleable__control:checked~label.sk-toggleable__label {background-color: #d4ebff;}#sk-container-id-2 input.sk-hidden--visually {border: 0;clip: rect(1px 1px 1px 1px);clip: rect(1px, 1px, 1px, 1px);height: 1px;margin: -1px;overflow: hidden;padding: 0;position: absolute;width: 1px;}#sk-container-id-2 div.sk-estimator {font-family: monospace;background-color: #f0f8ff;border: 1px dotted black;border-radius: 0.25em;box-sizing: border-box;margin-bottom: 0.5em;}#sk-container-id-2 div.sk-estimator:hover {background-color: #d4ebff;}#sk-container-id-2 div.sk-parallel-item::after {content: \"\";width: 100%;border-bottom: 1px solid gray;flex-grow: 1;}#sk-container-id-2 div.sk-label:hover label.sk-toggleable__label {background-color: #d4ebff;}#sk-container-id-2 div.sk-serial::before {content: \"\";position: absolute;border-left: 1px solid gray;box-sizing: border-box;top: 0;bottom: 0;left: 50%;z-index: 0;}#sk-container-id-2 div.sk-serial {display: flex;flex-direction: column;align-items: center;background-color: white;padding-right: 0.2em;padding-left: 0.2em;position: relative;}#sk-container-id-2 div.sk-item {position: relative;z-index: 1;}#sk-container-id-2 div.sk-parallel {display: flex;align-items: stretch;justify-content: center;background-color: white;position: relative;}#sk-container-id-2 div.sk-item::before, #sk-container-id-2 div.sk-parallel-item::before {content: \"\";position: absolute;border-left: 1px solid gray;box-sizing: border-box;top: 0;bottom: 0;left: 50%;z-index: -1;}#sk-container-id-2 div.sk-parallel-item {display: flex;flex-direction: column;z-index: 1;position: relative;background-color: white;}#sk-container-id-2 div.sk-parallel-item:first-child::after {align-self: flex-end;width: 50%;}#sk-container-id-2 div.sk-parallel-item:last-child::after {align-self: flex-start;width: 50%;}#sk-container-id-2 div.sk-parallel-item:only-child::after {width: 0;}#sk-container-id-2 div.sk-dashed-wrapped {border: 1px dashed gray;margin: 0 0.4em 0.5em 0.4em;box-sizing: border-box;padding-bottom: 0.4em;background-color: white;}#sk-container-id-2 div.sk-label label {font-family: monospace;font-weight: bold;display: inline-block;line-height: 1.2em;}#sk-container-id-2 div.sk-label-container {text-align: center;}#sk-container-id-2 div.sk-container {/* jupyter's `normalize.less` sets `[hidden] { display: none; }` but bootstrap.min.css set `[hidden] { display: none !important; }` so we also need the `!important` here to be able to override the default hidden behavior on the sphinx rendered scikit-learn.org. See: https://github.com/scikit-learn/scikit-learn/issues/21755 */display: inline-block !important;position: relative;}#sk-container-id-2 div.sk-text-repr-fallback {display: none;}</style><div id=\"sk-container-id-2\" class=\"sk-top-container\"><div class=\"sk-text-repr-fallback\"><pre>LinearRegression()</pre><b>In a Jupyter environment, please rerun this cell to show the HTML representation or trust the notebook. <br />On GitHub, the HTML representation is unable to render, please try loading this page with nbviewer.org.</b></div><div class=\"sk-container\" hidden><div class=\"sk-item\"><div class=\"sk-estimator sk-toggleable\"><input class=\"sk-toggleable__control sk-hidden--visually\" id=\"sk-estimator-id-2\" type=\"checkbox\" checked><label for=\"sk-estimator-id-2\" class=\"sk-toggleable__label sk-toggleable__label-arrow\">LinearRegression</label><div class=\"sk-toggleable__content\"><pre>LinearRegression()</pre></div></div></div></div></div>"
      ],
      "text/plain": [
       "LinearRegression()"
      ]
     },
     "execution_count": 31,
     "metadata": {},
     "output_type": "execute_result"
    }
   ],
   "source": [
    "model.fit(X_train,y_train)"
   ]
  },
  {
   "cell_type": "code",
   "execution_count": 32,
   "metadata": {
    "execution": {
     "iopub.execute_input": "2023-09-25T04:15:44.525755Z",
     "iopub.status.busy": "2023-09-25T04:15:44.523800Z",
     "iopub.status.idle": "2023-09-25T04:15:44.616002Z",
     "shell.execute_reply": "2023-09-25T04:15:44.614250Z",
     "shell.execute_reply.started": "2023-09-25T04:15:44.525692Z"
    }
   },
   "outputs": [
    {
     "data": {
      "text/plain": [
       "array([ 7.14094731e-03,  1.79658137e-02,  2.09397145e-01,  5.11972073e-02,\n",
       "       -3.42985189e-02,  1.93247009e-01,  2.41485624e-01,  7.93258002e-02,\n",
       "        2.24295625e-01,  5.09078759e-02,  1.73120418e-01,  7.42753075e-02,\n",
       "        2.06860888e-01,  8.46440120e-02,  8.82504801e-02,  2.84666469e-01,\n",
       "        2.56513294e-01,  4.72657403e-01,  5.25678264e-02,  2.04208102e-01,\n",
       "        2.61360413e-01,  2.11219471e-01,  1.99392519e-01,  1.60761433e-01,\n",
       "        1.77917855e-01,  6.77543308e-02,  1.03489680e-01,  1.17327258e-01,\n",
       "        2.10774612e-02,  4.38394568e-02,  4.81063988e-02,  1.02003460e-01,\n",
       "        1.12359706e-01,  6.46680994e-02,  7.51666042e-02,  2.40595350e-01,\n",
       "        1.68858487e-02,  4.57425104e-02,  6.86714376e-02,  4.47259966e-02,\n",
       "        5.24926321e-01,  2.03115542e-01,  1.41679386e-01,  2.43984205e-01,\n",
       "        3.57916837e-01,  1.53857025e-01,  1.24318768e-01, -8.46953746e-03,\n",
       "        2.34035901e-01,  3.24014894e-02,  2.26661928e-01,  2.43755145e-02,\n",
       "        1.14298118e-01, -4.18466146e-02,  3.39111147e-02,  2.26974143e-01,\n",
       "        3.31027446e-01, -3.43226428e-02,  1.85045840e-01,  1.20360118e-01,\n",
       "        2.00850735e-01,  1.02876510e-01,  6.07573238e-04,  6.43036508e-02,\n",
       "        3.49791330e-02,  6.98302125e-02,  9.02800663e-02,  5.13770232e-02,\n",
       "        2.63484225e-01, -6.74802847e-03,  2.04971268e-02, -2.03007662e-02,\n",
       "        2.80881311e-01,  2.29959514e-01, -2.73147014e-04,  2.47890900e-01,\n",
       "        3.53933078e-01,  2.24213253e-01,  2.18887975e-01,  1.35380673e-01,\n",
       "        2.16969716e-03,  5.29856036e-02,  5.02397114e-02, -3.71864277e-03,\n",
       "        8.06556789e-02,  1.72782340e-01,  2.90287890e-01,  2.60959058e-01,\n",
       "        6.98449160e-02,  1.57121394e-01,  1.48183473e-01,  2.58525873e-01,\n",
       "        3.58556947e-01,  2.22777124e-01,  2.61192404e-01,  3.38307929e-02,\n",
       "        1.82285585e-01,  2.43486556e-01,  2.16059451e-01,  9.75189906e-02,\n",
       "        2.70528002e-01,  1.33478963e-01,  1.15675956e-01, -5.22868315e-03,\n",
       "        1.62624163e-01,  6.83269768e-02, -1.90640933e-02, -1.40299384e-02,\n",
       "        2.48552724e-01,  1.22048162e-01,  3.82240310e-01,  1.64189268e-01,\n",
       "        1.37664035e-01,  6.08005166e-02,  1.88884439e-01,  6.04778154e-02,\n",
       "        1.89057997e-01,  1.16434873e-01,  2.62731497e-02, -3.52638530e-02,\n",
       "        2.86328379e-01,  1.72546123e-01,  2.03829021e-01,  1.93569616e-01,\n",
       "        8.19928497e-03,  5.19665716e-01,  1.99203799e-01,  2.49890041e-01,\n",
       "        1.14668609e-01,  1.68159164e-01,  1.80947451e-01,  8.41378793e-02,\n",
       "        1.89343720e-01,  2.09362988e-01,  2.20708437e-01,  1.22253112e-01,\n",
       "        3.18434538e-01,  1.77871773e-01,  1.54018549e-01,  1.59890894e-02,\n",
       "       -6.79579541e-02,  1.14977789e-01,  7.16774751e-02,  2.37443864e-01,\n",
       "        1.45675724e-01,  1.79024409e-01,  5.63037505e-02,  1.11668086e-01,\n",
       "        2.78593049e-01,  1.71100704e-01,  4.08980828e-02,  1.20427531e-01,\n",
       "        5.57835478e-02,  3.35609768e-01,  1.75314085e-01,  1.18634525e-01,\n",
       "        2.67878869e-03,  1.56598534e-01,  1.94685250e-02,  2.54520876e-01,\n",
       "        1.86423327e-01,  1.75059059e-01,  1.47713828e-01,  2.15227136e-01,\n",
       "        1.83568732e-01,  1.48525580e-01,  2.91439145e-01,  2.02564762e-01,\n",
       "        4.61849121e-02,  2.10517380e-01,  6.68093407e-02,  2.55049636e-01,\n",
       "        1.37910044e-01,  1.45015807e-01,  2.09926926e-01,  5.18285265e-02,\n",
       "        8.34287011e-02,  5.25789429e-02,  4.53875076e-01,  1.26163737e-01,\n",
       "        2.89304404e-01,  1.45364220e-01,  1.00940108e-01,  2.62243950e-01,\n",
       "        6.62045424e-03,  3.06085209e-01,  2.25932525e-01,  1.33945955e-01,\n",
       "        3.99596867e-01,  1.37257389e-01,  1.20119099e-01,  8.32343521e-02,\n",
       "        6.79095474e-02,  1.04544505e-01,  7.94879878e-02,  1.78188531e-01,\n",
       "        1.24560278e-01,  8.72175914e-02,  2.38533027e-01,  2.49829110e-01,\n",
       "        8.97378274e-02, -3.36261839e-02,  1.68082065e-01,  8.56079524e-02,\n",
       "        6.37228476e-02, -2.71484726e-02,  7.82494660e-02,  9.38435090e-02,\n",
       "       -1.06506456e-02,  3.07202392e-01,  9.89506702e-02,  1.15127089e-01,\n",
       "        1.73799844e-02,  2.52999971e-01,  2.85511339e-01,  1.00189731e-01,\n",
       "        2.77251629e-01,  2.60033637e-01,  4.18615070e-01, -4.18353694e-02,\n",
       "        1.24256608e-01,  1.28468341e-02,  2.55113760e-01,  1.52442881e-01,\n",
       "        4.17090985e-02,  1.81591580e-01,  3.01949430e-01,  1.31032408e-01,\n",
       "        1.74366976e-01,  2.53208525e-01,  1.80948884e-01,  2.32460214e-01,\n",
       "        2.89455731e-01,  2.30182432e-01,  1.05871703e-01,  1.32508391e-01,\n",
       "        1.54767988e-01,  1.13714408e-01,  2.96750613e-01,  3.34776921e-02,\n",
       "        8.44714542e-02, -6.16397776e-02,  6.68751331e-02,  9.99483463e-02,\n",
       "        9.53699932e-02,  1.91185988e-01,  1.77011214e-01,  6.28848029e-02,\n",
       "        2.23951256e-01, -9.12901730e-03,  1.26666220e-01,  8.25454454e-02,\n",
       "        1.09986623e-01,  4.26898273e-02,  3.01170497e-01,  1.72186431e-01,\n",
       "        7.30697550e-02,  1.62925980e-01,  4.70974228e-01,  9.18885840e-02,\n",
       "        1.96773271e-01,  2.14580020e-01,  5.33695194e-02,  4.25718297e-01,\n",
       "        2.40976451e-01,  3.13459689e-01,  2.46493284e-01,  3.48024250e-02,\n",
       "        2.14444385e-01,  1.45129751e-01,  2.64838239e-01,  1.89353753e-01,\n",
       "        1.53393334e-01,  2.52711291e-01,  7.34123109e-02,  6.28191223e-02,\n",
       "        2.04361325e-01,  3.28543589e-01,  2.19185586e-02,  2.15520227e-01,\n",
       "        4.33316050e-02,  1.01173002e-01,  8.76969879e-02,  1.46112533e-01,\n",
       "        1.41963657e-01,  1.87582823e-01,  1.91611557e-01,  1.84733100e-01,\n",
       "        5.67707364e-02,  4.08143478e-02,  9.17644118e-02, -9.40484984e-03,\n",
       "        1.88135945e-01,  5.35808078e-02,  1.90391534e-01,  2.16771122e-01,\n",
       "        1.00087773e-01,  2.39575494e-01,  1.84015213e-01,  3.48226443e-01,\n",
       "        2.57916760e-01,  2.75708021e-01,  1.06334575e-01,  2.17341003e-01,\n",
       "        3.92383355e-01,  2.73846090e-01,  1.22854636e-01, -2.63509534e-02,\n",
       "        2.79254754e-01, -1.00051279e-02,  8.98886335e-02,  7.92209124e-02,\n",
       "        2.55241618e-02, -2.96036760e-02,  2.26971617e-01,  1.00064272e-01,\n",
       "        6.63682174e-02,  4.25297859e-02,  2.14215728e-01,  1.35039296e-01,\n",
       "        1.46249844e-01,  1.44580015e-01,  6.57127262e-02,  1.99538018e-01,\n",
       "       -7.27712558e-02,  2.23042034e-01,  1.25172508e-01,  1.20652954e-01,\n",
       "        4.00801991e-01,  1.97999114e-01,  1.45209622e-01,  7.45025482e-03,\n",
       "        1.71176426e-01,  3.21259752e-01,  3.14973171e-02, -2.36224922e-02,\n",
       "        1.59805646e-01,  1.88217012e-01,  1.00131922e-01,  1.20414656e-01,\n",
       "        2.54917548e-01,  7.04851932e-02,  2.88825982e-01,  2.36287094e-01,\n",
       "        1.37259834e-01, -2.95346890e-02,  2.07423900e-01,  7.53534931e-02,\n",
       "        2.21865526e-01,  1.50560132e-01,  4.88886224e-02,  1.58193730e-01,\n",
       "        1.94886703e-01,  2.06306089e-01,  1.30032599e-02,  1.54663130e-02,\n",
       "        6.96681842e-02,  2.77438631e-01,  1.00956834e-01, -2.19050695e-02,\n",
       "        1.60847990e-01,  2.79878055e-01,  1.30059068e-02,  7.40957643e-02,\n",
       "        1.43481828e-01,  1.67748791e-01,  1.84772403e-01,  3.13516458e-01,\n",
       "       -1.50126262e-02,  1.23559480e-01,  9.62168359e-02,  3.30184986e-01,\n",
       "        2.85731676e-01,  1.62263920e-01,  3.87281177e-02, -1.89332109e-02,\n",
       "        9.58298383e-02,  1.43688337e-01,  1.97273230e-02,  1.55548751e-01,\n",
       "        2.89838093e-01,  1.01208083e-01,  1.45297141e-01,  8.05982079e-02,\n",
       "        2.50277832e-01,  2.38508645e-02,  1.05057229e-02,  1.87071846e-01,\n",
       "        6.48759632e-02,  1.41828361e-01,  1.47943264e-02,  2.74984641e-01,\n",
       "        1.22335919e-01,  2.82597755e-01,  6.48140679e-02,  1.25577518e-01,\n",
       "        2.27854849e-01,  4.55148472e-02,  8.83779871e-02,  3.28981727e-01,\n",
       "        3.92907437e-01,  1.34848271e-01, -2.92690816e-02,  6.64295614e-02,\n",
       "        1.40298299e-01,  1.81814761e-01,  8.50578510e-02,  5.66349959e-02,\n",
       "        1.61119338e-01,  1.92831569e-01, -4.98339169e-02,  6.01597040e-02,\n",
       "        1.09700256e-01,  2.75058014e-01,  2.08495751e-01, -1.20589000e-02,\n",
       "        1.00035055e-01,  3.69449570e-01,  2.71547626e-02,  1.43445659e-01,\n",
       "        2.74049934e-01,  2.25847861e-01,  4.66739986e-03,  2.83595342e-01,\n",
       "        4.01101793e-02,  2.83168570e-01,  2.33715858e-01,  1.41915877e-01,\n",
       "        1.42109943e-01,  3.21576960e-01,  6.61335149e-02, -5.00288597e-02,\n",
       "        1.60911279e-01, -3.69395083e-02,  7.47783053e-02,  2.61206535e-01,\n",
       "        2.44049652e-01, -2.65882526e-02,  1.18797214e-01,  1.63206038e-01,\n",
       "        1.63866300e-01,  3.70674486e-02,  1.81459945e-01,  8.62903588e-02,\n",
       "        1.25702885e-01,  8.89544063e-02,  1.11531733e-01, -2.78789943e-02,\n",
       "        1.26057799e-01,  3.76442417e-01,  1.38137070e-01,  2.08353526e-01,\n",
       "        2.52528566e-01,  3.33140922e-03,  1.14300259e-01,  2.16939521e-01,\n",
       "        9.81843691e-02,  2.48693805e-01,  3.19255987e-02,  1.40585581e-01,\n",
       "        4.49082059e-02,  2.80932718e-01,  1.42725650e-01,  3.65918301e-02,\n",
       "        3.28681215e-02,  2.42463136e-01,  1.08960091e-01,  2.74459910e-01,\n",
       "        1.87490174e-01,  3.11374359e-01,  2.16764990e-01,  2.77625607e-01,\n",
       "        6.69661808e-02,  1.27760953e-01,  3.20491391e-01,  4.13256161e-01,\n",
       "        2.65389337e-03,  8.70343995e-02,  3.43243619e-04,  2.83170036e-01,\n",
       "        1.21673795e-01,  6.95809165e-02, -2.06892295e-02,  1.29046577e-02,\n",
       "        9.31914872e-02,  1.44525583e-01,  1.20616896e-01,  1.66219836e-01,\n",
       "        2.33865997e-01,  1.50833803e-01,  1.68427458e-01,  2.17929491e-01,\n",
       "        1.29318313e-02,  2.13344527e-01,  1.79571195e-01,  1.89759137e-02,\n",
       "       -3.18016461e-02, -2.04411263e-02,  7.40230292e-02,  2.60393572e-01,\n",
       "        1.03660647e-01,  2.38281956e-01,  8.56417822e-02,  2.67527800e-01,\n",
       "        1.99145699e-01,  1.47232021e-01,  6.19650592e-02,  1.61679384e-01,\n",
       "        1.05592031e-01,  2.67823500e-01,  2.18979288e-01,  7.95052237e-02,\n",
       "        1.76746153e-01,  1.13874271e-01,  2.19061070e-01,  1.01638538e-01,\n",
       "        5.77114306e-02,  1.00482885e-02,  3.11253972e-01,  6.10376717e-02,\n",
       "        1.70309726e-01,  1.56276160e-01,  1.46193585e-01,  3.66017623e-01,\n",
       "       -9.61222512e-03,  1.50161476e-01,  3.99997493e-02,  2.00749866e-01,\n",
       "        1.56272375e-01,  2.67372085e-01,  1.44735269e-01,  3.03197784e-01,\n",
       "        2.58022604e-01,  1.86003868e-01,  1.90347157e-01,  1.41393653e-01,\n",
       "        3.29558796e-01,  1.25919146e-01,  1.27431881e-01,  1.81636409e-01,\n",
       "        1.67168889e-01,  6.48291154e-02,  1.42662447e-01,  1.46697055e-01,\n",
       "        1.11848286e-01,  8.32289706e-02, -3.17137255e-02,  1.34710104e-01,\n",
       "        1.86196924e-02,  2.57249984e-01,  2.71100205e-01,  3.76739825e-01,\n",
       "        6.04636198e-02,  7.41100934e-02,  3.83992220e-01,  1.28793668e-01,\n",
       "        2.07069267e-01,  1.16551133e-01, -6.19882866e-02, -5.39387860e-03,\n",
       "        1.74385027e-01,  1.84146664e-01,  1.16514875e-01, -1.44908505e-03,\n",
       "        3.12588448e-02, -4.31014991e-02,  1.88759113e-01,  2.90961075e-01,\n",
       "        1.62417174e-01,  1.98530219e-01, -2.78122514e-02,  2.98141439e-01,\n",
       "        1.58482267e-01,  1.46305007e-01,  1.02028653e-01,  9.94000414e-02,\n",
       "        2.37132946e-01,  1.96286029e-01,  1.05540697e-01,  2.55987746e-01,\n",
       "       -4.81928815e-02,  8.01607458e-03,  3.88242434e-01,  3.62166273e-01,\n",
       "        3.37507612e-02,  5.29881639e-02,  1.41747833e-01,  1.09825974e-01,\n",
       "        2.69639275e-01,  3.76528866e-01,  2.07094104e-01,  3.06803756e-01,\n",
       "        2.13018959e-01,  8.69221227e-02,  2.89547329e-01,  1.07391834e-01,\n",
       "        3.64564843e-01,  2.79620771e-01,  1.40386238e-01,  1.55491208e-01,\n",
       "        1.57671347e-01,  1.18843079e-01,  2.54426894e-02,  2.29172738e-01,\n",
       "        3.47196079e-01,  5.09324603e-02, -6.58717317e-03,  2.27747560e-01,\n",
       "        1.75328940e-01,  4.73500095e-02,  1.17406229e-01,  1.36036710e-01,\n",
       "        4.23344143e-02,  1.80753868e-01,  8.18173559e-02,  2.38117718e-01,\n",
       "        7.25862237e-02,  1.26871254e-01,  5.26577669e-02,  1.77293105e-01,\n",
       "        8.66894531e-02,  2.82352109e-01,  3.43151287e-01,  2.34585412e-01,\n",
       "       -3.49692490e-02,  2.77360046e-01,  4.28105072e-01,  1.12951621e-01,\n",
       "        2.44228444e-01,  2.33822333e-01,  2.35164323e-01,  1.99485051e-01,\n",
       "        1.29281768e-01,  5.21347774e-04,  1.03776146e-01,  8.58895042e-02,\n",
       "        5.56757569e-02,  8.25745830e-02,  3.21382056e-02,  2.41571029e-01,\n",
       "        4.43746381e-02,  8.03539017e-02,  1.53568106e-01,  3.10894940e-01,\n",
       "        1.17642354e-01,  2.61887406e-01,  5.17677370e-02,  1.91155518e-01,\n",
       "        7.13990799e-02,  1.75027649e-01, -5.86618877e-03,  1.74662697e-01,\n",
       "       -2.80932646e-02,  1.18990337e-01,  2.82104369e-01,  2.60489255e-01,\n",
       "        1.58158364e-01,  2.14867069e-01,  3.23246884e-02,  2.67703185e-01,\n",
       "        2.02831193e-01,  1.46067487e-01,  2.21793610e-01,  6.60426214e-02,\n",
       "        3.24104239e-01,  2.58533042e-01,  3.63728466e-02,  2.77808304e-01,\n",
       "        3.76162600e-01,  1.02603653e-01,  1.26701334e-01,  1.25867889e-01,\n",
       "        2.78093375e-01,  3.02904365e-01,  6.85112019e-02,  7.12833389e-02,\n",
       "        1.41239502e-01,  1.69162980e-01,  2.20405543e-01, -1.80626088e-02,\n",
       "        5.37955189e-03,  3.58195360e-01,  8.79779206e-02,  2.45761175e-02,\n",
       "        3.65238635e-01,  2.87125157e-01,  2.16614901e-01,  2.16501549e-01,\n",
       "        1.40702997e-01,  1.65277536e-01,  1.12055401e-01,  1.14340493e-02,\n",
       "        1.62797943e-01, -4.61245626e-02,  2.16531523e-01,  2.18673009e-01,\n",
       "        9.81634665e-02,  1.34233055e-01,  2.71801904e-01,  3.92296376e-02,\n",
       "        4.09232746e-02,  3.37237080e-01,  1.90825882e-01,  1.82026901e-01,\n",
       "        2.38983925e-02,  3.39665757e-01,  6.21440875e-02,  2.20229207e-01,\n",
       "        3.43180995e-01,  3.05292113e-01,  1.62079082e-01,  2.16237911e-01,\n",
       "        1.72414958e-01,  1.92025477e-01, -6.31900081e-02,  1.58135600e-01,\n",
       "        1.26691440e-01,  1.73326530e-01,  8.48593030e-02, -1.81852406e-02,\n",
       "        3.61564794e-01,  2.20630270e-01, -1.94011685e-02, -6.48859247e-02,\n",
       "        1.21736420e-01,  2.08500329e-01,  2.20265636e-01,  1.63808549e-01,\n",
       "        2.30899367e-02,  3.69548556e-01,  1.37605433e-01, -1.24332183e-03,\n",
       "        2.62108851e-01,  7.74679048e-02,  3.75914354e-01, -3.56788094e-03,\n",
       "       -2.60825995e-02,  4.42945375e-02,  1.33509686e-01,  1.87169907e-01,\n",
       "        4.30657533e-01,  1.35710060e-01,  4.70582928e-01,  2.13208986e-01,\n",
       "        2.97986944e-01,  4.89625357e-02,  3.57081495e-02,  1.65450353e-01,\n",
       "        8.31456915e-02,  2.03946973e-01,  5.73379462e-03,  3.47010837e-01,\n",
       "        2.17682073e-01,  2.61894659e-01,  1.78602704e-01,  1.75873206e-01,\n",
       "        1.56838324e-01,  1.56232529e-01,  1.56910976e-01,  9.24133065e-02,\n",
       "        2.13719685e-01,  1.46751577e-01,  9.22681881e-02,  1.00729767e-01,\n",
       "        1.31223267e-01,  1.97226507e-01,  1.61875560e-01,  2.15843814e-01,\n",
       "        2.94222557e-01,  1.91013667e-01,  1.52407583e-01,  4.30068609e-01,\n",
       "        1.05752145e-01,  7.93469301e-02,  8.99893868e-02,  7.70843813e-02,\n",
       "        5.40987715e-01,  1.70749677e-01,  1.45776311e-01,  1.29510364e-01,\n",
       "        7.79319456e-02,  1.23691891e-01,  1.67749752e-01,  1.52438399e-01,\n",
       "       -5.83006571e-03,  8.97236336e-02, -8.89585641e-02,  1.68117424e-01,\n",
       "        1.38706450e-01,  1.43682634e-01,  1.35594029e-01,  4.17201187e-01,\n",
       "        1.11804202e-01,  1.92436658e-01,  1.64674021e-01,  3.48357005e-01,\n",
       "        9.38252410e-02,  1.51273640e-01,  2.88629983e-02,  4.06224701e-01,\n",
       "        6.04836533e-03,  1.52145012e-01,  9.20045441e-02,  1.54212322e-01,\n",
       "        6.04779238e-02,  2.18578860e-01,  4.28016507e-02,  3.03940392e-01,\n",
       "        1.67128962e-01,  1.04803086e-01,  8.29054014e-02,  1.48457015e-01,\n",
       "        2.41895175e-01,  6.77398637e-02,  6.98227335e-02,  1.93742741e-01,\n",
       "        3.91015351e-01, -4.51437582e-03,  2.91059048e-01,  7.31245952e-02,\n",
       "        1.01174956e-01,  1.72331032e-01,  2.73653752e-01,  2.70703077e-01,\n",
       "        2.27117537e-01,  1.29472401e-01,  3.99809707e-02, -6.51003936e-03,\n",
       "        1.54615633e-01,  1.28243775e-01,  1.94047291e-01,  1.79107644e-01,\n",
       "        1.32976240e-01,  3.76317555e-01,  3.61140902e-02,  1.34049140e-01,\n",
       "        7.05993944e-02,  3.66122927e-01,  3.36301966e-01,  4.50335728e-02,\n",
       "        1.63707496e-01,  1.33387990e-01,  6.11153860e-01, -1.80818116e-02,\n",
       "        2.20288918e-01,  1.17027164e-01,  2.83241943e-01,  4.13105897e-01])"
      ]
     },
     "execution_count": 32,
     "metadata": {},
     "output_type": "execute_result"
    }
   ],
   "source": [
    "model.predict(X_test)"
   ]
  },
  {
   "cell_type": "code",
   "execution_count": 33,
   "metadata": {
    "execution": {
     "iopub.execute_input": "2023-09-25T04:15:44.618549Z",
     "iopub.status.busy": "2023-09-25T04:15:44.618098Z",
     "iopub.status.idle": "2023-09-25T04:15:44.630117Z",
     "shell.execute_reply": "2023-09-25T04:15:44.624478Z",
     "shell.execute_reply.started": "2023-09-25T04:15:44.618510Z"
    }
   },
   "outputs": [],
   "source": [
    "#to check accuracy"
   ]
  },
  {
   "cell_type": "code",
   "execution_count": 34,
   "metadata": {
    "execution": {
     "iopub.execute_input": "2023-09-25T04:15:44.634923Z",
     "iopub.status.busy": "2023-09-25T04:15:44.633373Z",
     "iopub.status.idle": "2023-09-25T04:15:44.649008Z",
     "shell.execute_reply": "2023-09-25T04:15:44.647237Z",
     "shell.execute_reply.started": "2023-09-25T04:15:44.634864Z"
    }
   },
   "outputs": [
    {
     "name": "stdout",
     "output_type": "stream",
     "text": [
      "7.067181640368592\n"
     ]
    }
   ],
   "source": [
    "a=model.score(X_test,y_test)\n",
    "print(a*100)"
   ]
  },
  {
   "cell_type": "markdown",
   "metadata": {},
   "source": [
    "**Not accurate method so use Logistic Regression**"
   ]
  }
 ],
 "metadata": {
  "kernelspec": {
   "display_name": "anaconda-2022.05-py39",
   "language": "python",
   "name": "conda-env-anaconda-2022.05-py39-py"
  },
  "language_info": {
   "codemirror_mode": {
    "name": "ipython",
    "version": 3
   },
   "file_extension": ".py",
   "mimetype": "text/x-python",
   "name": "python",
   "nbconvert_exporter": "python",
   "pygments_lexer": "ipython3",
   "version": "3.9.12"
  }
 },
 "nbformat": 4,
 "nbformat_minor": 4
}
